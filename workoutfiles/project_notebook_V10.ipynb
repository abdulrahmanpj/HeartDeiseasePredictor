{
 "cells": [
  {
   "cell_type": "markdown",
   "metadata": {},
   "source": [
    "# Initial Steps"
   ]
  },
  {
   "cell_type": "markdown",
   "metadata": {},
   "source": [
    "## Importing Libraries"
   ]
  },
  {
   "cell_type": "code",
   "execution_count": 2,
   "metadata": {},
   "outputs": [],
   "source": [
    "import pandas as pd \n",
    "import numpy as np\n",
    "import seaborn as sns\n",
    "import matplotlib\n",
    "import matplotlib.pyplot as plt\n",
    "import warnings\n",
    "warnings.filterwarnings('ignore')"
   ]
  },
  {
   "cell_type": "code",
   "execution_count": null,
   "metadata": {},
   "outputs": [],
   "source": [
    "df = pd.read_csv(\"heart_2020_cleaned.csv\")"
   ]
  },
  {
   "cell_type": "markdown",
   "metadata": {},
   "source": [
    "# Modelling"
   ]
  },
  {
   "cell_type": "code",
   "execution_count": 3,
   "metadata": {
    "papermill": {
     "duration": 1.515328,
     "end_time": "2022-06-09T12:45:15.557634",
     "exception": false,
     "start_time": "2022-06-09T12:45:14.042306",
     "status": "completed"
    },
    "tags": []
   },
   "outputs": [],
   "source": [
    "from sklearn.model_selection import train_test_split, KFold, GridSearchCV\n",
    "\n",
    "from sklearn.ensemble import RandomForestClassifier\n",
    "from sklearn.neighbors import KNeighborsClassifier\n",
    "from sklearn.linear_model import LogisticRegression\n",
    "from sklearn.naive_bayes import GaussianNB\n",
    "from sklearn.ensemble import GradientBoostingClassifier\n",
    "from sklearn.svm import SVC\n",
    "from sklearn.metrics import accuracy_score\n",
    "from lightgbm import LGBMClassifier\n",
    "from xgboost import XGBClassifier\n",
    "\n",
    "from sklearn.metrics import precision_score,recall_score\n",
    "from sklearn.metrics import f1_score"
   ]
  },
  {
   "cell_type": "markdown",
   "metadata": {
    "papermill": {
     "duration": 0.280568,
     "end_time": "2022-06-09T12:45:16.120047",
     "exception": false,
     "start_time": "2022-06-09T12:45:15.839479",
     "status": "completed"
    },
    "tags": []
   },
   "source": [
    "<a id=\"29\"></a>\n",
    "\n",
    "<font color='DeepSkyBlue'>\n",
    "\n",
    "\n",
    "## PREPROCESSING"
   ]
  },
  {
   "cell_type": "code",
   "execution_count": null,
   "metadata": {},
   "outputs": [],
   "source": [
    "df_copy = df.copy()"
   ]
  },
  {
   "cell_type": "code",
   "execution_count": null,
   "metadata": {
    "papermill": {
     "duration": 0.357633,
     "end_time": "2022-06-09T12:45:16.758330",
     "exception": false,
     "start_time": "2022-06-09T12:45:16.400697",
     "status": "completed"
    },
    "tags": []
   },
   "outputs": [],
   "source": [
    "df[\"id\"]=range(1,319796)\n",
    "df=df.set_index(\"id\")"
   ]
  },
  {
   "cell_type": "code",
   "execution_count": null,
   "metadata": {},
   "outputs": [],
   "source": [
    "df_cat=df.select_dtypes(include=[\"object\"])"
   ]
  },
  {
   "cell_type": "code",
   "execution_count": null,
   "metadata": {
    "papermill": {
     "duration": 0.300531,
     "end_time": "2022-06-09T12:45:17.933174",
     "exception": false,
     "start_time": "2022-06-09T12:45:17.632643",
     "status": "completed"
    },
    "tags": []
   },
   "outputs": [],
   "source": [
    "df_categorical=df_cat.columns\n",
    "df_categorical"
   ]
  },
  {
   "cell_type": "code",
   "execution_count": null,
   "metadata": {
    "papermill": {
     "duration": 4.036677,
     "end_time": "2022-06-09T12:45:22.252434",
     "exception": false,
     "start_time": "2022-06-09T12:45:18.215757",
     "status": "completed"
    },
    "tags": []
   },
   "outputs": [],
   "source": [
    "for var in df_categorical:\n",
    "    Dummy=pd.get_dummies(df[var], drop_first= True).add_prefix(var)\n",
    "    df=df.merge(Dummy,on=\"id\")\n",
    "    df=df.drop([var],axis=1)"
   ]
  },
  {
   "cell_type": "code",
   "execution_count": null,
   "metadata": {},
   "outputs": [],
   "source": [
    "df.columns"
   ]
  },
  {
   "cell_type": "code",
   "execution_count": null,
   "metadata": {
    "papermill": {
     "duration": 0.293388,
     "end_time": "2022-06-09T12:45:26.743245",
     "exception": false,
     "start_time": "2022-06-09T12:45:26.449857",
     "status": "completed"
    },
    "tags": []
   },
   "outputs": [],
   "source": [
    "from sklearn.preprocessing import MinMaxScaler"
   ]
  },
  {
   "cell_type": "code",
   "execution_count": null,
   "metadata": {
    "papermill": {
     "duration": 0.530007,
     "end_time": "2022-06-09T12:45:27.558314",
     "exception": false,
     "start_time": "2022-06-09T12:45:27.028307",
     "status": "completed"
    },
    "tags": []
   },
   "outputs": [],
   "source": [
    "scaler=MinMaxScaler()\n",
    "columns=df.columns\n",
    "s=scaler.fit_transform(df)\n",
    "\n",
    "df=pd.DataFrame(s,columns=columns)\n",
    "df.head(5)"
   ]
  },
  {
   "cell_type": "code",
   "execution_count": null,
   "metadata": {},
   "outputs": [],
   "source": [
    "df.columns"
   ]
  },
  {
   "cell_type": "code",
   "execution_count": null,
   "metadata": {
    "papermill": {
     "duration": 0.466702,
     "end_time": "2022-06-09T12:45:28.942972",
     "exception": false,
     "start_time": "2022-06-09T12:45:28.476270",
     "status": "completed"
    },
    "tags": []
   },
   "outputs": [],
   "source": [
    "stratified_sample = df.groupby('HeartDiseaseYes', group_keys=False).apply(lambda x: x.sample(7500))\n",
    "\n",
    "X_test = stratified_sample.drop(\"HeartDiseaseYes\", axis=1)\n",
    "y_test= stratified_sample.HeartDiseaseYes"
   ]
  },
  {
   "cell_type": "code",
   "execution_count": null,
   "metadata": {},
   "outputs": [],
   "source": [
    "df_stratified = pd.concat((X_test,y_test), axis=1)\n",
    "df_stratified[\"HeartDiseaseYes\"].value_counts()"
   ]
  },
  {
   "cell_type": "code",
   "execution_count": null,
   "metadata": {},
   "outputs": [],
   "source": [
    "df_all = df.merge(df_stratified.drop_duplicates(), on= ['BMI', 'PhysicalHealth', 'MentalHealth', 'SleepTime', 'SmokingYes',\n",
    "       'AlcoholDrinkingYes', 'StrokeYes', 'DiffWalkingYes', 'SexMale',\n",
    "       'AgeCategory25-29', 'AgeCategory30-34', 'AgeCategory35-39',\n",
    "       'AgeCategory40-44', 'AgeCategory45-49', 'AgeCategory50-54',\n",
    "       'AgeCategory55-59', 'AgeCategory60-64', 'AgeCategory65-69',\n",
    "       'AgeCategory70-74', 'AgeCategory75-79', 'AgeCategory80 or older',\n",
    "       'RaceAsian', 'RaceBlack', 'RaceHispanic', 'RaceOther', 'RaceWhite',\n",
    "       'DiabeticNo, borderline diabetes', 'DiabeticYes',\n",
    "       'DiabeticYes (during pregnancy)', 'PhysicalActivityYes',\n",
    "       'GenHealthFair', 'GenHealthGood', 'GenHealthPoor', 'GenHealthVery good',\n",
    "       'AsthmaYes', 'KidneyDiseaseYes', 'SkinCancerYes', 'HeartDiseaseYes'], how=\"left\", indicator='True')\n",
    "\n",
    "train_dataset = df_all[df_all['True'] == 'left_only']\n",
    "\n",
    "X_train = train_dataset.drop([\"HeartDiseaseYes\", \"True\"], axis=1)\n",
    "y_train = train_dataset.HeartDiseaseYes"
   ]
  },
  {
   "cell_type": "code",
   "execution_count": null,
   "metadata": {},
   "outputs": [],
   "source": [
    "print(y_train.value_counts())\n",
    "y_test.value_counts()"
   ]
  },
  {
   "cell_type": "code",
   "execution_count": null,
   "metadata": {},
   "outputs": [],
   "source": [
    "classweight = {0: 1, 1: 14}\n",
    "\n",
    "models=[LogisticRegression(class_weight=classweight), GaussianNB()]\n",
    "scores=dict()\n",
    "\n",
    "performance_table = ['Model', 'Accuracy', 'Precision', 'Percentage_mislabbled'\n",
    "                    'Total_Ones', 'Mislabble_Ones', 'Percent_Mislabbled_Ones', 'Recall_Score', 'F1_Score']\n",
    "\n",
    "Model = []\n",
    "Accuracy = []\n",
    "Precision = []\n",
    "Percentage_mislabbled = []\n",
    "Percent_Mislabbled_zeroes =[]\n",
    "Percent_Mislabbled_Ones =[]\n",
    "Recall_Score =[]\n",
    "F1_Score = []\n",
    "\n",
    "\n",
    "for m in models:\n",
    "    m.fit(X_train,y_train)\n",
    "    y_pred=m.predict(X_test)\n",
    "    percent_mislabbled = (((y_test != y_pred).sum())/X_test.shape[0])*100\n",
    "    \n",
    "\n",
    "    y_pred_df = pd.DataFrame(np.array(y_pred), columns= ['ypred'])\n",
    "    y_test_df = pd.DataFrame(y_test.values, columns = ['y_test'])\n",
    "    df_test = pd.concat([y_pred_df, y_test_df], axis=1)\n",
    "    df_test1 = df_test[df_test['y_test'] == 1]\n",
    "    df_test0 = df_test[df_test['y_test'] == 0]\n",
    "    percent_how_many_ones_mislabbled = ((df_test1.y_test != df_test1.ypred).sum()) / (len(df_test[df_test['y_test'] == 1])) * 100\n",
    "    percent_how_many_zeroes_mislabbled = ((df_test0.y_test != df_test0.ypred).sum()) / (len(df_test[df_test['y_test'] == 0])) * 100\n",
    "    \n",
    "    \n",
    "\n",
    "    Model.append(m)    \n",
    "    Accuracy.append(accuracy_score(y_test,y_pred))\n",
    "    Precision.append(precision_score(y_test,y_pred))\n",
    "    Percentage_mislabbled.append(percent_mislabbled)\n",
    "    Percent_Mislabbled_zeroes.append(percent_how_many_zeroes_mislabbled)    \n",
    "    Percent_Mislabbled_Ones.append(percent_how_many_ones_mislabbled)\n",
    "    Recall_Score.append(recall_score(y_test,y_pred))\n",
    "    F1_Score.append(f1_score(y_test,y_pred))\n",
    "\n",
    "performance_table = {'Model':Model , 'Accuracy':Accuracy, 'Precision': Precision, 'Percentage_mislabbled':Percentage_mislabbled, 'Percent_Mislabbled_zeroes': Percent_Mislabbled_zeroes,\n",
    "                                            'Percent_Mislabbled_Ones': Percent_Mislabbled_Ones , 'Recall_Score': Recall_Score, \n",
    "                                            'F1_Score' :F1_Score}\n",
    "\n",
    "performance_table_clswht = pd.DataFrame(performance_table)\n",
    "performance_table_clswht"
   ]
  },
  {
   "cell_type": "code",
   "execution_count": null,
   "metadata": {},
   "outputs": [],
   "source": [
    "logreg = LogisticRegression(class_weight = {0: 1, 1: 14})\n",
    "logreg.fit(X_train, y_train)\n",
    "y_pred_logreg = logreg.predict(X_test)"
   ]
  },
  {
   "cell_type": "code",
   "execution_count": null,
   "metadata": {},
   "outputs": [],
   "source": [
    "from sklearn.metrics import roc_curve\n",
    "fpr, tpr, threshold = roc_curve(y_test, y_pred_logreg)\n",
    "\n",
    "plt.plot(fpr, tpr)\n",
    "plt.plot([1,0], [1, 0])\n",
    "plt.xlabel('FPR (1-Specificity)')\n",
    "plt.ylabel('Tpr (sensitivity')\n",
    "plt.title('Roc Auc Curve')\n",
    "plt.legend()\n",
    "plt.show()\n"
   ]
  },
  {
   "cell_type": "code",
   "execution_count": null,
   "metadata": {},
   "outputs": [],
   "source": [
    "youdens_table = pd.DataFrame({'TPR': tpr,'FPR': fpr,'Threshold': threshold})\n",
    "\n",
    "youdens_table['Difference'] = youdens_table.TPR - youdens_table.FPR\n",
    "youdens_table = youdens_table.sort_values('Difference', ascending = False).reset_index(drop = True)\n",
    "youdens_table.head()\n"
   ]
  },
  {
   "cell_type": "code",
   "execution_count": null,
   "metadata": {},
   "outputs": [],
   "source": [
    "from sklearn.metrics import *"
   ]
  },
  {
   "cell_type": "code",
   "execution_count": null,
   "metadata": {},
   "outputs": [],
   "source": [
    "y_pred_prob = logreg.predict_proba(X_test)\n",
    "y_pred_prob = pd.DataFrame(y_pred_prob)\n",
    "y_pred_prob"
   ]
  },
  {
   "cell_type": "code",
   "execution_count": null,
   "metadata": {},
   "outputs": [],
   "source": [
    "score_card = pd.DataFrame(columns=['Probability Cutoff', 'AUC Score', 'Precision Score', 'Recall Score',\n",
    "                                       'Accuracy Score', 'Kappa Score', 'f1-score'])\n",
    "\n",
    "# append the result table for all performance scores\n",
    "# performance measures considered for model comparision are 'AUC Score', 'Precision Score', 'Recall Score','Accuracy Score',\n",
    "# 'Kappa Score', and 'f1-score'\n",
    "# compile the required information in a user defined function \n",
    "def update_score_card(model, cutoff):\n",
    "    \n",
    "    # let 'y_pred_prob' be the predicted values of y\n",
    "    \n",
    "    y_pred_prob = logreg.predict_proba(X_test)\n",
    "    y_pred_prob = pd.DataFrame(y_pred_prob)[1]\n",
    "\n",
    "    # convert probabilities to 0 and 1 using 'if_else'\n",
    "    y_pred = [ 0 if x < cutoff else 1 for x in y_pred_prob]\n",
    "    \n",
    "    # assign 'score_card' as global variable\n",
    "    global score_card\n",
    "\n",
    "    # append the results to the dataframe 'score_card'\n",
    "    # 'ignore_index = True' do not consider the index labels\n",
    "    score_card = score_card.append({'Probability Cutoff': cutoff,\n",
    "                                    'AUC Score' : roc_auc_score(y_test, y_pred),\n",
    "                                    'Precision Score': precision_score(y_test, y_pred),\n",
    "                                    'Recall Score': recall_score(y_test, y_pred),\n",
    "                                    'Accuracy Score': accuracy_score(y_test, y_pred),\n",
    "                                    'Kappa Score':cohen_kappa_score(y_test, y_pred),\n",
    "                                    'f1-score': f1_score(y_test, y_pred)}, \n",
    "                                    ignore_index = True)"
   ]
  },
  {
   "cell_type": "code",
   "execution_count": null,
   "metadata": {},
   "outputs": [],
   "source": [
    "cutoff = [0.1, 0.2, 0.3, 0.4, 0.5, 0.6, 0.7, 0.8, 0.9]\n",
    "\n",
    "for value in cutoff:\n",
    "    update_score_card(logreg, value)\n",
    "print('Score Card for Logistic regression:')\n",
    "\n",
    "score_card = score_card.sort_values('Probability Cutoff').reset_index(drop = True)\n",
    "\n",
    "score_card.style.highlight_max(color = 'lightblue', subset = ['AUC Score', 'Accuracy Score', 'Kappa Score', 'f1-score'])"
   ]
  },
  {
   "cell_type": "code",
   "execution_count": null,
   "metadata": {},
   "outputs": [],
   "source": []
  },
  {
   "cell_type": "markdown",
   "metadata": {},
   "source": [
    "# Variable Modifications"
   ]
  },
  {
   "cell_type": "code",
   "execution_count": null,
   "metadata": {},
   "outputs": [],
   "source": [
    "from sklearn.feature_selection import RFE"
   ]
  },
  {
   "cell_type": "code",
   "execution_count": null,
   "metadata": {},
   "outputs": [],
   "source": [
    "len(X_train.columns)"
   ]
  },
  {
   "cell_type": "code",
   "execution_count": null,
   "metadata": {},
   "outputs": [],
   "source": [
    "X_train_rfe = X_train\n",
    "X_test_rfe = X_test\n",
    "\n",
    "# initiate logistic regression model to use in feature selection\n",
    "logreg = LogisticRegression()\n",
    "\n",
    "# build the RFE model\n",
    "# pass the logistic regression model to 'estimator'\n",
    "# pass number of required features to 'n_features_to_select'\n",
    "# if we do not pass the number of features, RFE considers half of the features\n",
    "rfe_model = RFE(estimator = logreg, n_features_to_select = 25)\n",
    "\n",
    "# fit the RFE model on the train dataset using fit()\n",
    "rfe_model = rfe_model.fit(X_train_rfe, y_train)\n",
    "\n",
    "# create a series containing feature and its corresponding rank obtained from RFE\n",
    "# 'ranking_' returns the rank of each variable after applying RFE\n",
    "# pass the ranks as the 'data' of a series\n",
    "# 'index' assigns feature names as index of a series \n",
    "feat_index = pd.Series(data = rfe_model.ranking_, index = X_train_rfe.columns)\n",
    "\n",
    "# select the features with rank = 1\n",
    "# 'index' returns the indices of a series (i.e. features with rank=1) \n",
    "signi_feat_rfe = feat_index[feat_index==1].index\n",
    "\n",
    "# print the significant features obtained from RFE\n",
    "print(signi_feat_rfe)"
   ]
  },
  {
   "cell_type": "code",
   "execution_count": null,
   "metadata": {},
   "outputs": [],
   "source": [
    "X_train.columns"
   ]
  },
  {
   "cell_type": "code",
   "execution_count": null,
   "metadata": {},
   "outputs": [],
   "source": [
    "# BMI, Sleeptime, Age, General Health, Kidney Disease, Asthma, Diabetic, stroke, sex"
   ]
  },
  {
   "cell_type": "code",
   "execution_count": 346,
   "metadata": {},
   "outputs": [],
   "source": [
    "# 'BMI', 'PhysicalHealth', 'MentalHealth', 'SleepTime', 'SmokingYes',\n",
    "# 'AlcoholDrinkingYes', 'StrokeYes', 'DiffWalkingYes', 'SexMale','AgeCategory'Race \n",
    "# 'Diabetic, 'PhysicalActivityYes','GenHealth', 'AsthmaYes', 'KidneyDiseaseYes', 'SkinCancerYes'"
   ]
  },
  {
   "cell_type": "markdown",
   "metadata": {},
   "source": [
    "# **---------------------**"
   ]
  },
  {
   "cell_type": "code",
   "execution_count": 5,
   "metadata": {},
   "outputs": [],
   "source": [
    "df_copy = pd.read_csv(\"heart_2020_cleaned.csv\")"
   ]
  },
  {
   "cell_type": "code",
   "execution_count": 6,
   "metadata": {},
   "outputs": [
    {
     "data": {
      "text/plain": [
       "Very good    113858\n",
       "Good          93129\n",
       "Excellent     66842\n",
       "Fair          34677\n",
       "Poor          11289\n",
       "Name: GenHealth, dtype: int64"
      ]
     },
     "execution_count": 6,
     "metadata": {},
     "output_type": "execute_result"
    }
   ],
   "source": [
    "df_copy.GenHealth.value_counts()"
   ]
  },
  {
   "cell_type": "code",
   "execution_count": 7,
   "metadata": {},
   "outputs": [
    {
     "data": {
      "text/plain": [
       "{'65-69': 34151,\n",
       " '60-64': 33686,\n",
       " '70-74': 31065,\n",
       " '55-59': 29757,\n",
       " '50-54': 25382,\n",
       " '80 or older': 24153,\n",
       " '45-49': 21791,\n",
       " '75-79': 21482,\n",
       " '18-24': 21064,\n",
       " '40-44': 21006,\n",
       " '35-39': 20550,\n",
       " '30-34': 18753,\n",
       " '25-29': 16955}"
      ]
     },
     "execution_count": 7,
     "metadata": {},
     "output_type": "execute_result"
    }
   ],
   "source": [
    "dict(df_copy.AgeCategory.value_counts())"
   ]
  },
  {
   "cell_type": "code",
   "execution_count": 8,
   "metadata": {},
   "outputs": [],
   "source": [
    "df_copy.GenHealth = df_copy.GenHealth.replace([\"Poor\", \"Fair\", \"Good\", \"Very good\", \"Excellent\"], [5, 4, 3, 2, 1])"
   ]
  },
  {
   "cell_type": "code",
   "execution_count": 9,
   "metadata": {},
   "outputs": [
    {
     "data": {
      "text/plain": [
       "2    113858\n",
       "3     93129\n",
       "1     66842\n",
       "4     34677\n",
       "5     11289\n",
       "Name: GenHealth, dtype: int64"
      ]
     },
     "execution_count": 9,
     "metadata": {},
     "output_type": "execute_result"
    }
   ],
   "source": [
    "df_copy.GenHealth.value_counts()"
   ]
  },
  {
   "cell_type": "code",
   "execution_count": 10,
   "metadata": {},
   "outputs": [],
   "source": [
    "# df_copy.AgeCategory = df_copy.AgeCategory.replace({'65-69': 9,\n",
    "#  '60-64': 8,\n",
    "#  '70-74': 10,\n",
    "#  '55-59': 7,\n",
    "#  '50-54': 6,\n",
    "#  '80 or older': 12,\n",
    "#  '45-49': 5,\n",
    "#  '75-79': 11,\n",
    "#  '18-24': 0,\n",
    "#  '40-44': 4,\n",
    "#  '35-39': 3,\n",
    "#  '30-34': 2,\n",
    "#  '25-29': 1})"
   ]
  },
  {
   "cell_type": "code",
   "execution_count": 11,
   "metadata": {},
   "outputs": [],
   "source": [
    "df_copy = df_copy.drop(\"Race\", axis=1)"
   ]
  },
  {
   "cell_type": "code",
   "execution_count": 12,
   "metadata": {},
   "outputs": [
    {
     "data": {
      "text/plain": [
       "No     289976\n",
       "Yes     29819\n",
       "Name: SkinCancer, dtype: int64"
      ]
     },
     "execution_count": 12,
     "metadata": {},
     "output_type": "execute_result"
    }
   ],
   "source": [
    "df_copy.Asthma.value_counts()\n",
    "df_copy.KidneyDisease.value_counts()\n",
    "df_copy[\"SkinCancer\"].value_counts()\n"
   ]
  },
  {
   "cell_type": "code",
   "execution_count": 13,
   "metadata": {},
   "outputs": [],
   "source": [
    "df_copy.Diabetic = df_copy.Diabetic.replace([\"No, borderline diabetes\", \"Yes (during pregnancy)\"], [\"No\", \"No\"])\n"
   ]
  },
  {
   "cell_type": "code",
   "execution_count": 14,
   "metadata": {},
   "outputs": [],
   "source": [
    "df_copy.Diabetic = df_copy.Diabetic.replace([\"Yes\", \"No\"], [1, 0])\n",
    "df_copy.Asthma = df_copy.Asthma.replace([\"Yes\", \"No\"], [1, 0])\n",
    "df_copy.KidneyDisease = df_copy.KidneyDisease.replace([\"Yes\", \"No\"], [1, 0])\n",
    "df_copy.SkinCancer = df_copy.SkinCancer.replace([\"Yes\", \"No\"], [1, 0])"
   ]
  },
  {
   "cell_type": "code",
   "execution_count": 15,
   "metadata": {},
   "outputs": [
    {
     "name": "stdout",
     "output_type": "stream",
     "text": [
      "0    278993\n",
      "1     40802\n",
      "Name: Diabetic, dtype: int64\n",
      "0    276923\n",
      "1     42872\n",
      "Name: Asthma, dtype: int64\n",
      "0    308016\n",
      "1     11779\n",
      "Name: KidneyDisease, dtype: int64\n",
      "0    289976\n",
      "1     29819\n",
      "Name: SkinCancer, dtype: int64\n"
     ]
    }
   ],
   "source": [
    "print(df_copy.Diabetic.value_counts())\n",
    "print(df_copy.Asthma.value_counts())\n",
    "print(df_copy.KidneyDisease.value_counts())\n",
    "print(df_copy[\"SkinCancer\"].value_counts())"
   ]
  },
  {
   "cell_type": "code",
   "execution_count": 16,
   "metadata": {},
   "outputs": [],
   "source": [
    "df_copy['Severity'] = df_copy[\"Diabetic\"] + df_copy['Asthma'] + df_copy['KidneyDisease'] + df_copy[\"SkinCancer\"]"
   ]
  },
  {
   "cell_type": "code",
   "execution_count": 17,
   "metadata": {},
   "outputs": [],
   "source": [
    "df_copy = df_copy.drop(['Diabetic', 'Asthma', 'KidneyDisease', 'SkinCancer'], axis=1)"
   ]
  },
  {
   "cell_type": "code",
   "execution_count": 18,
   "metadata": {},
   "outputs": [],
   "source": [
    "df = df_copy"
   ]
  },
  {
   "cell_type": "code",
   "execution_count": 19,
   "metadata": {
    "papermill": {
     "duration": 0.357633,
     "end_time": "2022-06-09T12:45:16.758330",
     "exception": false,
     "start_time": "2022-06-09T12:45:16.400697",
     "status": "completed"
    },
    "tags": []
   },
   "outputs": [],
   "source": [
    "df[\"id\"]=range(1,319796)\n",
    "df=df.set_index(\"id\")"
   ]
  },
  {
   "cell_type": "code",
   "execution_count": 20,
   "metadata": {},
   "outputs": [],
   "source": [
    "df_cat=df.select_dtypes(include=[\"object\"])"
   ]
  },
  {
   "cell_type": "code",
   "execution_count": 21,
   "metadata": {
    "papermill": {
     "duration": 0.300531,
     "end_time": "2022-06-09T12:45:17.933174",
     "exception": false,
     "start_time": "2022-06-09T12:45:17.632643",
     "status": "completed"
    },
    "tags": []
   },
   "outputs": [
    {
     "data": {
      "text/plain": [
       "Index(['HeartDisease', 'Smoking', 'AlcoholDrinking', 'Stroke', 'DiffWalking',\n",
       "       'Sex', 'AgeCategory', 'PhysicalActivity'],\n",
       "      dtype='object')"
      ]
     },
     "execution_count": 21,
     "metadata": {},
     "output_type": "execute_result"
    }
   ],
   "source": [
    "df_categorical=df_cat.columns\n",
    "df_categorical"
   ]
  },
  {
   "cell_type": "code",
   "execution_count": 22,
   "metadata": {
    "papermill": {
     "duration": 4.036677,
     "end_time": "2022-06-09T12:45:22.252434",
     "exception": false,
     "start_time": "2022-06-09T12:45:18.215757",
     "status": "completed"
    },
    "tags": []
   },
   "outputs": [],
   "source": [
    "for var in df_categorical:\n",
    "    Dummy=pd.get_dummies(df[var], drop_first= True).add_prefix(var)\n",
    "    df=df.merge(Dummy,on=\"id\")\n",
    "    df=df.drop([var],axis=1)"
   ]
  },
  {
   "cell_type": "code",
   "execution_count": 23,
   "metadata": {},
   "outputs": [
    {
     "data": {
      "text/plain": [
       "Index(['BMI', 'PhysicalHealth', 'MentalHealth', 'GenHealth', 'SleepTime',\n",
       "       'Severity', 'HeartDiseaseYes', 'SmokingYes', 'AlcoholDrinkingYes',\n",
       "       'StrokeYes', 'DiffWalkingYes', 'SexMale', 'AgeCategory25-29',\n",
       "       'AgeCategory30-34', 'AgeCategory35-39', 'AgeCategory40-44',\n",
       "       'AgeCategory45-49', 'AgeCategory50-54', 'AgeCategory55-59',\n",
       "       'AgeCategory60-64', 'AgeCategory65-69', 'AgeCategory70-74',\n",
       "       'AgeCategory75-79', 'AgeCategory80 or older', 'PhysicalActivityYes'],\n",
       "      dtype='object')"
      ]
     },
     "execution_count": 23,
     "metadata": {},
     "output_type": "execute_result"
    }
   ],
   "source": [
    "df.columns"
   ]
  },
  {
   "cell_type": "code",
   "execution_count": 24,
   "metadata": {
    "papermill": {
     "duration": 0.293388,
     "end_time": "2022-06-09T12:45:26.743245",
     "exception": false,
     "start_time": "2022-06-09T12:45:26.449857",
     "status": "completed"
    },
    "tags": []
   },
   "outputs": [],
   "source": [
    "from sklearn.preprocessing import MinMaxScaler"
   ]
  },
  {
   "cell_type": "code",
   "execution_count": 25,
   "metadata": {
    "papermill": {
     "duration": 0.530007,
     "end_time": "2022-06-09T12:45:27.558314",
     "exception": false,
     "start_time": "2022-06-09T12:45:27.028307",
     "status": "completed"
    },
    "tags": []
   },
   "outputs": [
    {
     "data": {
      "text/html": [
       "<div>\n",
       "<style scoped>\n",
       "    .dataframe tbody tr th:only-of-type {\n",
       "        vertical-align: middle;\n",
       "    }\n",
       "\n",
       "    .dataframe tbody tr th {\n",
       "        vertical-align: top;\n",
       "    }\n",
       "\n",
       "    .dataframe thead th {\n",
       "        text-align: right;\n",
       "    }\n",
       "</style>\n",
       "<table border=\"1\" class=\"dataframe\">\n",
       "  <thead>\n",
       "    <tr style=\"text-align: right;\">\n",
       "      <th></th>\n",
       "      <th>BMI</th>\n",
       "      <th>PhysicalHealth</th>\n",
       "      <th>MentalHealth</th>\n",
       "      <th>GenHealth</th>\n",
       "      <th>SleepTime</th>\n",
       "      <th>Severity</th>\n",
       "      <th>HeartDiseaseYes</th>\n",
       "      <th>SmokingYes</th>\n",
       "      <th>AlcoholDrinkingYes</th>\n",
       "      <th>StrokeYes</th>\n",
       "      <th>...</th>\n",
       "      <th>AgeCategory40-44</th>\n",
       "      <th>AgeCategory45-49</th>\n",
       "      <th>AgeCategory50-54</th>\n",
       "      <th>AgeCategory55-59</th>\n",
       "      <th>AgeCategory60-64</th>\n",
       "      <th>AgeCategory65-69</th>\n",
       "      <th>AgeCategory70-74</th>\n",
       "      <th>AgeCategory75-79</th>\n",
       "      <th>AgeCategory80 or older</th>\n",
       "      <th>PhysicalActivityYes</th>\n",
       "    </tr>\n",
       "  </thead>\n",
       "  <tbody>\n",
       "    <tr>\n",
       "      <th>0</th>\n",
       "      <td>0.055294</td>\n",
       "      <td>0.100000</td>\n",
       "      <td>1.0</td>\n",
       "      <td>0.25</td>\n",
       "      <td>0.173913</td>\n",
       "      <td>0.75</td>\n",
       "      <td>0.0</td>\n",
       "      <td>1.0</td>\n",
       "      <td>0.0</td>\n",
       "      <td>0.0</td>\n",
       "      <td>...</td>\n",
       "      <td>0.0</td>\n",
       "      <td>0.0</td>\n",
       "      <td>0.0</td>\n",
       "      <td>1.0</td>\n",
       "      <td>0.0</td>\n",
       "      <td>0.0</td>\n",
       "      <td>0.0</td>\n",
       "      <td>0.0</td>\n",
       "      <td>0.0</td>\n",
       "      <td>1.0</td>\n",
       "    </tr>\n",
       "    <tr>\n",
       "      <th>1</th>\n",
       "      <td>0.100447</td>\n",
       "      <td>0.000000</td>\n",
       "      <td>0.0</td>\n",
       "      <td>0.25</td>\n",
       "      <td>0.260870</td>\n",
       "      <td>0.00</td>\n",
       "      <td>0.0</td>\n",
       "      <td>0.0</td>\n",
       "      <td>0.0</td>\n",
       "      <td>1.0</td>\n",
       "      <td>...</td>\n",
       "      <td>0.0</td>\n",
       "      <td>0.0</td>\n",
       "      <td>0.0</td>\n",
       "      <td>0.0</td>\n",
       "      <td>0.0</td>\n",
       "      <td>0.0</td>\n",
       "      <td>0.0</td>\n",
       "      <td>0.0</td>\n",
       "      <td>1.0</td>\n",
       "      <td>1.0</td>\n",
       "    </tr>\n",
       "    <tr>\n",
       "      <th>2</th>\n",
       "      <td>0.175782</td>\n",
       "      <td>0.666667</td>\n",
       "      <td>1.0</td>\n",
       "      <td>0.75</td>\n",
       "      <td>0.304348</td>\n",
       "      <td>0.50</td>\n",
       "      <td>0.0</td>\n",
       "      <td>1.0</td>\n",
       "      <td>0.0</td>\n",
       "      <td>0.0</td>\n",
       "      <td>...</td>\n",
       "      <td>0.0</td>\n",
       "      <td>0.0</td>\n",
       "      <td>0.0</td>\n",
       "      <td>0.0</td>\n",
       "      <td>0.0</td>\n",
       "      <td>1.0</td>\n",
       "      <td>0.0</td>\n",
       "      <td>0.0</td>\n",
       "      <td>0.0</td>\n",
       "      <td>1.0</td>\n",
       "    </tr>\n",
       "    <tr>\n",
       "      <th>3</th>\n",
       "      <td>0.147169</td>\n",
       "      <td>0.000000</td>\n",
       "      <td>0.0</td>\n",
       "      <td>0.50</td>\n",
       "      <td>0.217391</td>\n",
       "      <td>0.25</td>\n",
       "      <td>0.0</td>\n",
       "      <td>0.0</td>\n",
       "      <td>0.0</td>\n",
       "      <td>0.0</td>\n",
       "      <td>...</td>\n",
       "      <td>0.0</td>\n",
       "      <td>0.0</td>\n",
       "      <td>0.0</td>\n",
       "      <td>0.0</td>\n",
       "      <td>0.0</td>\n",
       "      <td>0.0</td>\n",
       "      <td>0.0</td>\n",
       "      <td>1.0</td>\n",
       "      <td>0.0</td>\n",
       "      <td>0.0</td>\n",
       "    </tr>\n",
       "    <tr>\n",
       "      <th>4</th>\n",
       "      <td>0.141132</td>\n",
       "      <td>0.933333</td>\n",
       "      <td>0.0</td>\n",
       "      <td>0.25</td>\n",
       "      <td>0.304348</td>\n",
       "      <td>0.00</td>\n",
       "      <td>0.0</td>\n",
       "      <td>0.0</td>\n",
       "      <td>0.0</td>\n",
       "      <td>0.0</td>\n",
       "      <td>...</td>\n",
       "      <td>1.0</td>\n",
       "      <td>0.0</td>\n",
       "      <td>0.0</td>\n",
       "      <td>0.0</td>\n",
       "      <td>0.0</td>\n",
       "      <td>0.0</td>\n",
       "      <td>0.0</td>\n",
       "      <td>0.0</td>\n",
       "      <td>0.0</td>\n",
       "      <td>1.0</td>\n",
       "    </tr>\n",
       "  </tbody>\n",
       "</table>\n",
       "<p>5 rows × 25 columns</p>\n",
       "</div>"
      ],
      "text/plain": [
       "        BMI  PhysicalHealth  MentalHealth  GenHealth  SleepTime  Severity  \\\n",
       "0  0.055294        0.100000           1.0       0.25   0.173913      0.75   \n",
       "1  0.100447        0.000000           0.0       0.25   0.260870      0.00   \n",
       "2  0.175782        0.666667           1.0       0.75   0.304348      0.50   \n",
       "3  0.147169        0.000000           0.0       0.50   0.217391      0.25   \n",
       "4  0.141132        0.933333           0.0       0.25   0.304348      0.00   \n",
       "\n",
       "   HeartDiseaseYes  SmokingYes  AlcoholDrinkingYes  StrokeYes  ...  \\\n",
       "0              0.0         1.0                 0.0        0.0  ...   \n",
       "1              0.0         0.0                 0.0        1.0  ...   \n",
       "2              0.0         1.0                 0.0        0.0  ...   \n",
       "3              0.0         0.0                 0.0        0.0  ...   \n",
       "4              0.0         0.0                 0.0        0.0  ...   \n",
       "\n",
       "   AgeCategory40-44  AgeCategory45-49  AgeCategory50-54  AgeCategory55-59  \\\n",
       "0               0.0               0.0               0.0               1.0   \n",
       "1               0.0               0.0               0.0               0.0   \n",
       "2               0.0               0.0               0.0               0.0   \n",
       "3               0.0               0.0               0.0               0.0   \n",
       "4               1.0               0.0               0.0               0.0   \n",
       "\n",
       "   AgeCategory60-64  AgeCategory65-69  AgeCategory70-74  AgeCategory75-79  \\\n",
       "0               0.0               0.0               0.0               0.0   \n",
       "1               0.0               0.0               0.0               0.0   \n",
       "2               0.0               1.0               0.0               0.0   \n",
       "3               0.0               0.0               0.0               1.0   \n",
       "4               0.0               0.0               0.0               0.0   \n",
       "\n",
       "   AgeCategory80 or older  PhysicalActivityYes  \n",
       "0                     0.0                  1.0  \n",
       "1                     1.0                  1.0  \n",
       "2                     0.0                  1.0  \n",
       "3                     0.0                  0.0  \n",
       "4                     0.0                  1.0  \n",
       "\n",
       "[5 rows x 25 columns]"
      ]
     },
     "execution_count": 25,
     "metadata": {},
     "output_type": "execute_result"
    }
   ],
   "source": [
    "scaler=MinMaxScaler()\n",
    "columns=df.columns\n",
    "s=scaler.fit_transform(df)\n",
    "\n",
    "df=pd.DataFrame(s,columns=columns)\n",
    "df.head(5)"
   ]
  },
  {
   "cell_type": "code",
   "execution_count": 26,
   "metadata": {},
   "outputs": [
    {
     "data": {
      "text/plain": [
       "Index(['BMI', 'PhysicalHealth', 'MentalHealth', 'GenHealth', 'SleepTime',\n",
       "       'Severity', 'HeartDiseaseYes', 'SmokingYes', 'AlcoholDrinkingYes',\n",
       "       'StrokeYes', 'DiffWalkingYes', 'SexMale', 'AgeCategory25-29',\n",
       "       'AgeCategory30-34', 'AgeCategory35-39', 'AgeCategory40-44',\n",
       "       'AgeCategory45-49', 'AgeCategory50-54', 'AgeCategory55-59',\n",
       "       'AgeCategory60-64', 'AgeCategory65-69', 'AgeCategory70-74',\n",
       "       'AgeCategory75-79', 'AgeCategory80 or older', 'PhysicalActivityYes'],\n",
       "      dtype='object')"
      ]
     },
     "execution_count": 26,
     "metadata": {},
     "output_type": "execute_result"
    }
   ],
   "source": [
    "df.columns"
   ]
  },
  {
   "cell_type": "code",
   "execution_count": 27,
   "metadata": {
    "papermill": {
     "duration": 0.466702,
     "end_time": "2022-06-09T12:45:28.942972",
     "exception": false,
     "start_time": "2022-06-09T12:45:28.476270",
     "status": "completed"
    },
    "tags": []
   },
   "outputs": [],
   "source": [
    "stratified_sample = df.groupby('HeartDiseaseYes', group_keys=False).apply(lambda x: x.sample(7500))\n",
    "\n",
    "X_test = stratified_sample.drop(\"HeartDiseaseYes\", axis=1)\n",
    "y_test= stratified_sample.HeartDiseaseYes"
   ]
  },
  {
   "cell_type": "code",
   "execution_count": 28,
   "metadata": {},
   "outputs": [
    {
     "data": {
      "text/plain": [
       "0.0    7500\n",
       "1.0    7500\n",
       "Name: HeartDiseaseYes, dtype: int64"
      ]
     },
     "execution_count": 28,
     "metadata": {},
     "output_type": "execute_result"
    }
   ],
   "source": [
    "df_stratified = pd.concat((X_test,y_test), axis=1)\n",
    "df_stratified[\"HeartDiseaseYes\"].value_counts()"
   ]
  },
  {
   "cell_type": "code",
   "execution_count": 29,
   "metadata": {},
   "outputs": [
    {
     "data": {
      "text/plain": [
       "Index(['BMI', 'PhysicalHealth', 'MentalHealth', 'GenHealth', 'SleepTime',\n",
       "       'Severity', 'HeartDiseaseYes', 'SmokingYes', 'AlcoholDrinkingYes',\n",
       "       'StrokeYes', 'DiffWalkingYes', 'SexMale', 'AgeCategory25-29',\n",
       "       'AgeCategory30-34', 'AgeCategory35-39', 'AgeCategory40-44',\n",
       "       'AgeCategory45-49', 'AgeCategory50-54', 'AgeCategory55-59',\n",
       "       'AgeCategory60-64', 'AgeCategory65-69', 'AgeCategory70-74',\n",
       "       'AgeCategory75-79', 'AgeCategory80 or older', 'PhysicalActivityYes'],\n",
       "      dtype='object')"
      ]
     },
     "execution_count": 29,
     "metadata": {},
     "output_type": "execute_result"
    }
   ],
   "source": [
    "df.columns"
   ]
  },
  {
   "cell_type": "code",
   "execution_count": 30,
   "metadata": {},
   "outputs": [],
   "source": [
    "df_all = df.merge(df_stratified.drop_duplicates(), on= ['BMI', 'PhysicalHealth', 'MentalHealth', 'SleepTime', 'SmokingYes',\n",
    "       'AlcoholDrinkingYes', 'StrokeYes', 'DiffWalkingYes', 'SexMale',\n",
    "       'AgeCategory25-29',\n",
    "       'AgeCategory30-34', 'AgeCategory35-39', 'AgeCategory40-44',\n",
    "       'AgeCategory45-49', 'AgeCategory50-54', 'AgeCategory55-59',\n",
    "       'AgeCategory60-64', 'AgeCategory65-69', 'AgeCategory70-74',\n",
    "       'AgeCategory75-79', 'AgeCategory80 or older','PhysicalActivityYes','GenHealth',\n",
    "       'Severity', 'HeartDiseaseYes'], how=\"left\", indicator='True')\n",
    "\n",
    "train_dataset = df_all[df_all['True'] == 'left_only']\n",
    "\n",
    "X_train = train_dataset.drop([\"HeartDiseaseYes\", \"True\"], axis=1)\n",
    "y_train = train_dataset.HeartDiseaseYes"
   ]
  },
  {
   "cell_type": "code",
   "execution_count": 31,
   "metadata": {},
   "outputs": [
    {
     "name": "stdout",
     "output_type": "stream",
     "text": [
      "0.0    282747\n",
      "1.0     19797\n",
      "Name: HeartDiseaseYes, dtype: int64\n"
     ]
    },
    {
     "data": {
      "text/plain": [
       "0.0    7500\n",
       "1.0    7500\n",
       "Name: HeartDiseaseYes, dtype: int64"
      ]
     },
     "execution_count": 31,
     "metadata": {},
     "output_type": "execute_result"
    }
   ],
   "source": [
    "print(y_train.value_counts())\n",
    "y_test.value_counts()"
   ]
  },
  {
   "cell_type": "code",
   "execution_count": 32,
   "metadata": {},
   "outputs": [],
   "source": [
    "logreg = LogisticRegression(class_weight = {0: 1, 1: 14})\n",
    "logreg.fit(X_train, y_train)\n",
    "y_pred_prob = logreg.predict_proba(X_test)\n",
    "y_pred_prob = list(pd.DataFrame(y_pred_prob)[1])\n",
    "y_pred = [0 if x < 0.4 else 1 for x in y_pred_prob]"
   ]
  },
  {
   "cell_type": "code",
   "execution_count": 36,
   "metadata": {},
   "outputs": [],
   "source": [
    "from sklearn.metrics import *"
   ]
  },
  {
   "cell_type": "code",
   "execution_count": 37,
   "metadata": {},
   "outputs": [
    {
     "data": {
      "text/html": [
       "<div>\n",
       "<style scoped>\n",
       "    .dataframe tbody tr th:only-of-type {\n",
       "        vertical-align: middle;\n",
       "    }\n",
       "\n",
       "    .dataframe tbody tr th {\n",
       "        vertical-align: top;\n",
       "    }\n",
       "\n",
       "    .dataframe thead th {\n",
       "        text-align: right;\n",
       "    }\n",
       "</style>\n",
       "<table border=\"1\" class=\"dataframe\">\n",
       "  <thead>\n",
       "    <tr style=\"text-align: right;\">\n",
       "      <th></th>\n",
       "      <th>Probability Cutoff</th>\n",
       "      <th>AUC Score</th>\n",
       "      <th>Precision Score</th>\n",
       "      <th>Recall Score</th>\n",
       "      <th>Accuracy Score</th>\n",
       "      <th>Kappa Score</th>\n",
       "      <th>f1-score</th>\n",
       "    </tr>\n",
       "  </thead>\n",
       "  <tbody>\n",
       "    <tr>\n",
       "      <th>0</th>\n",
       "      <td>0.4</td>\n",
       "      <td>0.7652</td>\n",
       "      <td>0.71973</td>\n",
       "      <td>0.868667</td>\n",
       "      <td>0.7652</td>\n",
       "      <td>0.5304</td>\n",
       "      <td>0.787216</td>\n",
       "    </tr>\n",
       "  </tbody>\n",
       "</table>\n",
       "</div>"
      ],
      "text/plain": [
       "   Probability Cutoff  AUC Score  Precision Score  Recall Score  \\\n",
       "0                 0.4     0.7652          0.71973      0.868667   \n",
       "\n",
       "   Accuracy Score  Kappa Score  f1-score  \n",
       "0          0.7652       0.5304  0.787216  "
      ]
     },
     "execution_count": 37,
     "metadata": {},
     "output_type": "execute_result"
    }
   ],
   "source": [
    "score_card = pd.DataFrame(columns=['Probability Cutoff', 'AUC Score', 'Precision Score', 'Recall Score',\n",
    "                                       'Accuracy Score', 'Kappa Score', 'f1-score'])\n",
    "\n",
    "\n",
    "\n",
    "score_card = score_card.append({'Probability Cutoff': 0.4,\n",
    "                                'AUC Score' : roc_auc_score(y_test, y_pred),\n",
    "                                'Precision Score': precision_score(y_test, y_pred),\n",
    "                                'Recall Score': recall_score(y_test, y_pred),\n",
    "                                'Accuracy Score': accuracy_score(y_test, y_pred),\n",
    "                                'Kappa Score':cohen_kappa_score(y_test, y_pred),\n",
    "                                'f1-score': f1_score(y_test, y_pred)}, \n",
    "                                ignore_index = True)\n",
    "score_card                                "
   ]
  },
  {
   "cell_type": "code",
   "execution_count": 38,
   "metadata": {},
   "outputs": [
    {
     "data": {
      "text/plain": [
       "Index(['BMI', 'PhysicalHealth', 'MentalHealth', 'GenHealth', 'SleepTime',\n",
       "       'Severity', 'SmokingYes', 'AlcoholDrinkingYes', 'StrokeYes',\n",
       "       'DiffWalkingYes', 'SexMale', 'AgeCategory25-29', 'AgeCategory30-34',\n",
       "       'AgeCategory35-39', 'AgeCategory40-44', 'AgeCategory45-49',\n",
       "       'AgeCategory50-54', 'AgeCategory55-59', 'AgeCategory60-64',\n",
       "       'AgeCategory65-69', 'AgeCategory70-74', 'AgeCategory75-79',\n",
       "       'AgeCategory80 or older', 'PhysicalActivityYes'],\n",
       "      dtype='object')"
      ]
     },
     "execution_count": 38,
     "metadata": {},
     "output_type": "execute_result"
    }
   ],
   "source": [
    "X_train.columns"
   ]
  },
  {
   "cell_type": "code",
   "execution_count": 40,
   "metadata": {},
   "outputs": [
    {
     "name": "stderr",
     "output_type": "stream",
     "text": [
      "No artists with labels found to put in legend.  Note that artists whose label start with an underscore are ignored when legend() is called with no argument.\n"
     ]
    },
    {
     "data": {
      "image/png": "[encoded data removed]",
      "text/plain": [
       "<Figure size 432x288 with 1 Axes>"
      ]
     },
     "metadata": {
      "needs_background": "light"
     },
     "output_type": "display_data"
    }
   ],
   "source": [
    "from sklearn.metrics import roc_curve\n",
    "fpr, tpr, threshold = roc_curve(y_test, y_pred)\n",
    "\n",
    "plt.plot(fpr, tpr)\n",
    "plt.plot([1,0], [1, 0])\n",
    "plt.xlabel('FPR (1-Specificity)')\n",
    "plt.ylabel('Tpr (sensitivity')\n",
    "plt.title('Roc Auc Curve')\n",
    "\n",
    "plt.legend()\n",
    "plt.show()\n"
   ]
  },
  {
   "cell_type": "markdown",
   "metadata": {},
   "source": [
    "# **---------------------**"
   ]
  },
  {
   "cell_type": "code",
   "execution_count": 5,
   "metadata": {},
   "outputs": [],
   "source": [
    "df_copy2 = pd.read_csv(\"heart_2020_cleaned.csv\")"
   ]
  },
  {
   "cell_type": "code",
   "execution_count": 6,
   "metadata": {},
   "outputs": [
    {
     "data": {
      "text/plain": [
       "Very good    113858\n",
       "Good          93129\n",
       "Excellent     66842\n",
       "Fair          34677\n",
       "Poor          11289\n",
       "Name: GenHealth, dtype: int64"
      ]
     },
     "execution_count": 6,
     "metadata": {},
     "output_type": "execute_result"
    }
   ],
   "source": [
    "df_copy2.GenHealth.value_counts()"
   ]
  },
  {
   "cell_type": "code",
   "execution_count": 7,
   "metadata": {},
   "outputs": [
    {
     "data": {
      "text/plain": [
       "{'65-69': 34151,\n",
       " '60-64': 33686,\n",
       " '70-74': 31065,\n",
       " '55-59': 29757,\n",
       " '50-54': 25382,\n",
       " '80 or older': 24153,\n",
       " '45-49': 21791,\n",
       " '75-79': 21482,\n",
       " '18-24': 21064,\n",
       " '40-44': 21006,\n",
       " '35-39': 20550,\n",
       " '30-34': 18753,\n",
       " '25-29': 16955}"
      ]
     },
     "execution_count": 7,
     "metadata": {},
     "output_type": "execute_result"
    }
   ],
   "source": [
    "dict(df_copy2.AgeCategory.value_counts())"
   ]
  },
  {
   "cell_type": "code",
   "execution_count": 8,
   "metadata": {},
   "outputs": [],
   "source": [
    "df_copy2.GenHealth = df_copy2.GenHealth.replace([\"Poor\", \"Fair\", \"Good\", \"Very good\", \"Excellent\"], [5, 4, 3, 2, 1])"
   ]
  },
  {
   "cell_type": "code",
   "execution_count": 9,
   "metadata": {},
   "outputs": [
    {
     "data": {
      "text/plain": [
       "2    113858\n",
       "3     93129\n",
       "1     66842\n",
       "4     34677\n",
       "5     11289\n",
       "Name: GenHealth, dtype: int64"
      ]
     },
     "execution_count": 9,
     "metadata": {},
     "output_type": "execute_result"
    }
   ],
   "source": [
    "df_copy2.GenHealth.value_counts()"
   ]
  },
  {
   "cell_type": "code",
   "execution_count": 10,
   "metadata": {},
   "outputs": [],
   "source": [
    "# df_copy.AgeCategory = df_copy.AgeCategory.replace({'65-69': 9,\n",
    "#  '60-64': 8,\n",
    "#  '70-74': 10,\n",
    "#  '55-59': 7,\n",
    "#  '50-54': 6,\n",
    "#  '80 or older': 12,\n",
    "#  '45-49': 5,\n",
    "#  '75-79': 11,\n",
    "#  '18-24': 0,\n",
    "#  '40-44': 4,\n",
    "#  '35-39': 3,\n",
    "#  '30-34': 2,\n",
    "#  '25-29': 1})"
   ]
  },
  {
   "cell_type": "code",
   "execution_count": 11,
   "metadata": {},
   "outputs": [],
   "source": [
    "df_copy2 = df_copy2.drop(\"Race\", axis=1)"
   ]
  },
  {
   "cell_type": "code",
   "execution_count": 12,
   "metadata": {},
   "outputs": [
    {
     "data": {
      "text/plain": [
       "No     289976\n",
       "Yes     29819\n",
       "Name: SkinCancer, dtype: int64"
      ]
     },
     "execution_count": 12,
     "metadata": {},
     "output_type": "execute_result"
    }
   ],
   "source": [
    "df_copy2.Asthma.value_counts()\n",
    "df_copy2.KidneyDisease.value_counts()\n",
    "df_copy2[\"SkinCancer\"].value_counts()\n"
   ]
  },
  {
   "cell_type": "code",
   "execution_count": 13,
   "metadata": {},
   "outputs": [],
   "source": [
    "df_copy2.Diabetic = df_copy2.Diabetic.replace([\"No, borderline diabetes\", \"Yes (during pregnancy)\"], [\"No\", \"No\"])\n"
   ]
  },
  {
   "cell_type": "code",
   "execution_count": 14,
   "metadata": {},
   "outputs": [],
   "source": [
    "df_copy2.Diabetic = df_copy2.Diabetic.replace([\"Yes\", \"No\"], [1, 0])\n",
    "df_copy2.Asthma = df_copy2.Asthma.replace([\"Yes\", \"No\"], [1, 0])\n",
    "df_copy2.KidneyDisease = df_copy2.KidneyDisease.replace([\"Yes\", \"No\"], [1, 0])\n",
    "df_copy2.SkinCancer = df_copy2.SkinCancer.replace([\"Yes\", \"No\"], [1, 0])"
   ]
  },
  {
   "cell_type": "code",
   "execution_count": 15,
   "metadata": {},
   "outputs": [
    {
     "name": "stdout",
     "output_type": "stream",
     "text": [
      "0    278993\n",
      "1     40802\n",
      "Name: Diabetic, dtype: int64\n",
      "0    276923\n",
      "1     42872\n",
      "Name: Asthma, dtype: int64\n",
      "0    308016\n",
      "1     11779\n",
      "Name: KidneyDisease, dtype: int64\n",
      "0    289976\n",
      "1     29819\n",
      "Name: SkinCancer, dtype: int64\n"
     ]
    }
   ],
   "source": [
    "print(df_copy2.Diabetic.value_counts())\n",
    "print(df_copy2.Asthma.value_counts())\n",
    "print(df_copy2.KidneyDisease.value_counts())\n",
    "print(df_copy2[\"SkinCancer\"].value_counts())"
   ]
  },
  {
   "cell_type": "code",
   "execution_count": 16,
   "metadata": {},
   "outputs": [],
   "source": [
    "df_copy2['Severity'] = df_copy2[\"Diabetic\"] + df_copy2['Asthma'] + df_copy2['KidneyDisease'] + df_copy2[\"SkinCancer\"]"
   ]
  },
  {
   "cell_type": "code",
   "execution_count": 17,
   "metadata": {},
   "outputs": [],
   "source": [
    "df_copy2 = df_copy2.drop(['Diabetic', 'Asthma', 'KidneyDisease', 'SkinCancer'], axis=1)"
   ]
  },
  {
   "cell_type": "code",
   "execution_count": 18,
   "metadata": {},
   "outputs": [],
   "source": [
    "df = df_copy2"
   ]
  },
  {
   "cell_type": "code",
   "execution_count": 19,
   "metadata": {
    "papermill": {
     "duration": 0.357633,
     "end_time": "2022-06-09T12:45:16.758330",
     "exception": false,
     "start_time": "2022-06-09T12:45:16.400697",
     "status": "completed"
    },
    "tags": []
   },
   "outputs": [],
   "source": [
    "df[\"id\"]=range(1,319796)\n",
    "df=df.set_index(\"id\")"
   ]
  },
  {
   "cell_type": "code",
   "execution_count": 20,
   "metadata": {},
   "outputs": [],
   "source": [
    "df_cat=df.select_dtypes(include=[\"object\"])"
   ]
  },
  {
   "cell_type": "code",
   "execution_count": 21,
   "metadata": {
    "papermill": {
     "duration": 0.300531,
     "end_time": "2022-06-09T12:45:17.933174",
     "exception": false,
     "start_time": "2022-06-09T12:45:17.632643",
     "status": "completed"
    },
    "tags": []
   },
   "outputs": [
    {
     "data": {
      "text/plain": [
       "Index(['HeartDisease', 'Smoking', 'AlcoholDrinking', 'Stroke', 'DiffWalking',\n",
       "       'Sex', 'AgeCategory', 'PhysicalActivity'],\n",
       "      dtype='object')"
      ]
     },
     "execution_count": 21,
     "metadata": {},
     "output_type": "execute_result"
    }
   ],
   "source": [
    "df_categorical=df_cat.columns\n",
    "df_categorical"
   ]
  },
  {
   "cell_type": "code",
   "execution_count": 22,
   "metadata": {
    "papermill": {
     "duration": 4.036677,
     "end_time": "2022-06-09T12:45:22.252434",
     "exception": false,
     "start_time": "2022-06-09T12:45:18.215757",
     "status": "completed"
    },
    "tags": []
   },
   "outputs": [],
   "source": [
    "for var in df_categorical:\n",
    "    Dummy=pd.get_dummies(df[var], drop_first= True).add_prefix(var)\n",
    "    df=df.merge(Dummy,on=\"id\")\n",
    "    df=df.drop([var],axis=1)"
   ]
  },
  {
   "cell_type": "code",
   "execution_count": 23,
   "metadata": {},
   "outputs": [
    {
     "data": {
      "text/plain": [
       "Index(['BMI', 'PhysicalHealth', 'MentalHealth', 'GenHealth', 'SleepTime',\n",
       "       'Severity', 'HeartDiseaseYes', 'SmokingYes', 'AlcoholDrinkingYes',\n",
       "       'StrokeYes', 'DiffWalkingYes', 'SexMale', 'AgeCategory25-29',\n",
       "       'AgeCategory30-34', 'AgeCategory35-39', 'AgeCategory40-44',\n",
       "       'AgeCategory45-49', 'AgeCategory50-54', 'AgeCategory55-59',\n",
       "       'AgeCategory60-64', 'AgeCategory65-69', 'AgeCategory70-74',\n",
       "       'AgeCategory75-79', 'AgeCategory80 or older', 'PhysicalActivityYes'],\n",
       "      dtype='object')"
      ]
     },
     "execution_count": 23,
     "metadata": {},
     "output_type": "execute_result"
    }
   ],
   "source": [
    "df.columns"
   ]
  },
  {
   "cell_type": "code",
   "execution_count": 24,
   "metadata": {
    "papermill": {
     "duration": 0.293388,
     "end_time": "2022-06-09T12:45:26.743245",
     "exception": false,
     "start_time": "2022-06-09T12:45:26.449857",
     "status": "completed"
    },
    "tags": []
   },
   "outputs": [],
   "source": [
    "from sklearn.preprocessing import MinMaxScaler"
   ]
  },
  {
   "cell_type": "code",
   "execution_count": 25,
   "metadata": {
    "papermill": {
     "duration": 0.530007,
     "end_time": "2022-06-09T12:45:27.558314",
     "exception": false,
     "start_time": "2022-06-09T12:45:27.028307",
     "status": "completed"
    },
    "tags": []
   },
   "outputs": [
    {
     "data": {
      "text/html": [
       "<div>\n",
       "<style scoped>\n",
       "    .dataframe tbody tr th:only-of-type {\n",
       "        vertical-align: middle;\n",
       "    }\n",
       "\n",
       "    .dataframe tbody tr th {\n",
       "        vertical-align: top;\n",
       "    }\n",
       "\n",
       "    .dataframe thead th {\n",
       "        text-align: right;\n",
       "    }\n",
       "</style>\n",
       "<table border=\"1\" class=\"dataframe\">\n",
       "  <thead>\n",
       "    <tr style=\"text-align: right;\">\n",
       "      <th></th>\n",
       "      <th>BMI</th>\n",
       "      <th>PhysicalHealth</th>\n",
       "      <th>MentalHealth</th>\n",
       "      <th>GenHealth</th>\n",
       "      <th>SleepTime</th>\n",
       "      <th>Severity</th>\n",
       "      <th>HeartDiseaseYes</th>\n",
       "      <th>SmokingYes</th>\n",
       "      <th>AlcoholDrinkingYes</th>\n",
       "      <th>StrokeYes</th>\n",
       "      <th>...</th>\n",
       "      <th>AgeCategory40-44</th>\n",
       "      <th>AgeCategory45-49</th>\n",
       "      <th>AgeCategory50-54</th>\n",
       "      <th>AgeCategory55-59</th>\n",
       "      <th>AgeCategory60-64</th>\n",
       "      <th>AgeCategory65-69</th>\n",
       "      <th>AgeCategory70-74</th>\n",
       "      <th>AgeCategory75-79</th>\n",
       "      <th>AgeCategory80 or older</th>\n",
       "      <th>PhysicalActivityYes</th>\n",
       "    </tr>\n",
       "  </thead>\n",
       "  <tbody>\n",
       "    <tr>\n",
       "      <th>0</th>\n",
       "      <td>0.055294</td>\n",
       "      <td>0.100000</td>\n",
       "      <td>1.0</td>\n",
       "      <td>0.25</td>\n",
       "      <td>0.173913</td>\n",
       "      <td>0.75</td>\n",
       "      <td>0.0</td>\n",
       "      <td>1.0</td>\n",
       "      <td>0.0</td>\n",
       "      <td>0.0</td>\n",
       "      <td>...</td>\n",
       "      <td>0.0</td>\n",
       "      <td>0.0</td>\n",
       "      <td>0.0</td>\n",
       "      <td>1.0</td>\n",
       "      <td>0.0</td>\n",
       "      <td>0.0</td>\n",
       "      <td>0.0</td>\n",
       "      <td>0.0</td>\n",
       "      <td>0.0</td>\n",
       "      <td>1.0</td>\n",
       "    </tr>\n",
       "    <tr>\n",
       "      <th>1</th>\n",
       "      <td>0.100447</td>\n",
       "      <td>0.000000</td>\n",
       "      <td>0.0</td>\n",
       "      <td>0.25</td>\n",
       "      <td>0.260870</td>\n",
       "      <td>0.00</td>\n",
       "      <td>0.0</td>\n",
       "      <td>0.0</td>\n",
       "      <td>0.0</td>\n",
       "      <td>1.0</td>\n",
       "      <td>...</td>\n",
       "      <td>0.0</td>\n",
       "      <td>0.0</td>\n",
       "      <td>0.0</td>\n",
       "      <td>0.0</td>\n",
       "      <td>0.0</td>\n",
       "      <td>0.0</td>\n",
       "      <td>0.0</td>\n",
       "      <td>0.0</td>\n",
       "      <td>1.0</td>\n",
       "      <td>1.0</td>\n",
       "    </tr>\n",
       "    <tr>\n",
       "      <th>2</th>\n",
       "      <td>0.175782</td>\n",
       "      <td>0.666667</td>\n",
       "      <td>1.0</td>\n",
       "      <td>0.75</td>\n",
       "      <td>0.304348</td>\n",
       "      <td>0.50</td>\n",
       "      <td>0.0</td>\n",
       "      <td>1.0</td>\n",
       "      <td>0.0</td>\n",
       "      <td>0.0</td>\n",
       "      <td>...</td>\n",
       "      <td>0.0</td>\n",
       "      <td>0.0</td>\n",
       "      <td>0.0</td>\n",
       "      <td>0.0</td>\n",
       "      <td>0.0</td>\n",
       "      <td>1.0</td>\n",
       "      <td>0.0</td>\n",
       "      <td>0.0</td>\n",
       "      <td>0.0</td>\n",
       "      <td>1.0</td>\n",
       "    </tr>\n",
       "    <tr>\n",
       "      <th>3</th>\n",
       "      <td>0.147169</td>\n",
       "      <td>0.000000</td>\n",
       "      <td>0.0</td>\n",
       "      <td>0.50</td>\n",
       "      <td>0.217391</td>\n",
       "      <td>0.25</td>\n",
       "      <td>0.0</td>\n",
       "      <td>0.0</td>\n",
       "      <td>0.0</td>\n",
       "      <td>0.0</td>\n",
       "      <td>...</td>\n",
       "      <td>0.0</td>\n",
       "      <td>0.0</td>\n",
       "      <td>0.0</td>\n",
       "      <td>0.0</td>\n",
       "      <td>0.0</td>\n",
       "      <td>0.0</td>\n",
       "      <td>0.0</td>\n",
       "      <td>1.0</td>\n",
       "      <td>0.0</td>\n",
       "      <td>0.0</td>\n",
       "    </tr>\n",
       "    <tr>\n",
       "      <th>4</th>\n",
       "      <td>0.141132</td>\n",
       "      <td>0.933333</td>\n",
       "      <td>0.0</td>\n",
       "      <td>0.25</td>\n",
       "      <td>0.304348</td>\n",
       "      <td>0.00</td>\n",
       "      <td>0.0</td>\n",
       "      <td>0.0</td>\n",
       "      <td>0.0</td>\n",
       "      <td>0.0</td>\n",
       "      <td>...</td>\n",
       "      <td>1.0</td>\n",
       "      <td>0.0</td>\n",
       "      <td>0.0</td>\n",
       "      <td>0.0</td>\n",
       "      <td>0.0</td>\n",
       "      <td>0.0</td>\n",
       "      <td>0.0</td>\n",
       "      <td>0.0</td>\n",
       "      <td>0.0</td>\n",
       "      <td>1.0</td>\n",
       "    </tr>\n",
       "  </tbody>\n",
       "</table>\n",
       "<p>5 rows × 25 columns</p>\n",
       "</div>"
      ],
      "text/plain": [
       "        BMI  PhysicalHealth  MentalHealth  GenHealth  SleepTime  Severity  \\\n",
       "0  0.055294        0.100000           1.0       0.25   0.173913      0.75   \n",
       "1  0.100447        0.000000           0.0       0.25   0.260870      0.00   \n",
       "2  0.175782        0.666667           1.0       0.75   0.304348      0.50   \n",
       "3  0.147169        0.000000           0.0       0.50   0.217391      0.25   \n",
       "4  0.141132        0.933333           0.0       0.25   0.304348      0.00   \n",
       "\n",
       "   HeartDiseaseYes  SmokingYes  AlcoholDrinkingYes  StrokeYes  ...  \\\n",
       "0              0.0         1.0                 0.0        0.0  ...   \n",
       "1              0.0         0.0                 0.0        1.0  ...   \n",
       "2              0.0         1.0                 0.0        0.0  ...   \n",
       "3              0.0         0.0                 0.0        0.0  ...   \n",
       "4              0.0         0.0                 0.0        0.0  ...   \n",
       "\n",
       "   AgeCategory40-44  AgeCategory45-49  AgeCategory50-54  AgeCategory55-59  \\\n",
       "0               0.0               0.0               0.0               1.0   \n",
       "1               0.0               0.0               0.0               0.0   \n",
       "2               0.0               0.0               0.0               0.0   \n",
       "3               0.0               0.0               0.0               0.0   \n",
       "4               1.0               0.0               0.0               0.0   \n",
       "\n",
       "   AgeCategory60-64  AgeCategory65-69  AgeCategory70-74  AgeCategory75-79  \\\n",
       "0               0.0               0.0               0.0               0.0   \n",
       "1               0.0               0.0               0.0               0.0   \n",
       "2               0.0               1.0               0.0               0.0   \n",
       "3               0.0               0.0               0.0               1.0   \n",
       "4               0.0               0.0               0.0               0.0   \n",
       "\n",
       "   AgeCategory80 or older  PhysicalActivityYes  \n",
       "0                     0.0                  1.0  \n",
       "1                     1.0                  1.0  \n",
       "2                     0.0                  1.0  \n",
       "3                     0.0                  0.0  \n",
       "4                     0.0                  1.0  \n",
       "\n",
       "[5 rows x 25 columns]"
      ]
     },
     "execution_count": 25,
     "metadata": {},
     "output_type": "execute_result"
    }
   ],
   "source": [
    "scaler=MinMaxScaler()\n",
    "columns=df.columns\n",
    "s=scaler.fit_transform(df)\n",
    "\n",
    "df=pd.DataFrame(s,columns=columns)\n",
    "df.head(5)"
   ]
  },
  {
   "cell_type": "code",
   "execution_count": 26,
   "metadata": {},
   "outputs": [
    {
     "data": {
      "text/plain": [
       "Index(['BMI', 'PhysicalHealth', 'MentalHealth', 'GenHealth', 'SleepTime',\n",
       "       'Severity', 'HeartDiseaseYes', 'SmokingYes', 'AlcoholDrinkingYes',\n",
       "       'StrokeYes', 'DiffWalkingYes', 'SexMale', 'AgeCategory25-29',\n",
       "       'AgeCategory30-34', 'AgeCategory35-39', 'AgeCategory40-44',\n",
       "       'AgeCategory45-49', 'AgeCategory50-54', 'AgeCategory55-59',\n",
       "       'AgeCategory60-64', 'AgeCategory65-69', 'AgeCategory70-74',\n",
       "       'AgeCategory75-79', 'AgeCategory80 or older', 'PhysicalActivityYes'],\n",
       "      dtype='object')"
      ]
     },
     "execution_count": 26,
     "metadata": {},
     "output_type": "execute_result"
    }
   ],
   "source": [
    "df.columns"
   ]
  },
  {
   "cell_type": "code",
   "execution_count": 27,
   "metadata": {
    "papermill": {
     "duration": 0.466702,
     "end_time": "2022-06-09T12:45:28.942972",
     "exception": false,
     "start_time": "2022-06-09T12:45:28.476270",
     "status": "completed"
    },
    "tags": []
   },
   "outputs": [],
   "source": [
    "stratified_sample = df.groupby('HeartDiseaseYes', group_keys=False).apply(lambda x: x.sample(7500))\n",
    "\n",
    "X_test = stratified_sample.drop(\"HeartDiseaseYes\", axis=1)\n",
    "y_test= stratified_sample.HeartDiseaseYes"
   ]
  },
  {
   "cell_type": "code",
   "execution_count": 28,
   "metadata": {},
   "outputs": [
    {
     "data": {
      "text/plain": [
       "0.0    7500\n",
       "1.0    7500\n",
       "Name: HeartDiseaseYes, dtype: int64"
      ]
     },
     "execution_count": 28,
     "metadata": {},
     "output_type": "execute_result"
    }
   ],
   "source": [
    "df_stratified = pd.concat((X_test,y_test), axis=1)\n",
    "df_stratified[\"HeartDiseaseYes\"].value_counts()"
   ]
  },
  {
   "cell_type": "code",
   "execution_count": 29,
   "metadata": {},
   "outputs": [
    {
     "data": {
      "text/plain": [
       "Index(['BMI', 'PhysicalHealth', 'MentalHealth', 'GenHealth', 'SleepTime',\n",
       "       'Severity', 'HeartDiseaseYes', 'SmokingYes', 'AlcoholDrinkingYes',\n",
       "       'StrokeYes', 'DiffWalkingYes', 'SexMale', 'AgeCategory25-29',\n",
       "       'AgeCategory30-34', 'AgeCategory35-39', 'AgeCategory40-44',\n",
       "       'AgeCategory45-49', 'AgeCategory50-54', 'AgeCategory55-59',\n",
       "       'AgeCategory60-64', 'AgeCategory65-69', 'AgeCategory70-74',\n",
       "       'AgeCategory75-79', 'AgeCategory80 or older', 'PhysicalActivityYes'],\n",
       "      dtype='object')"
      ]
     },
     "execution_count": 29,
     "metadata": {},
     "output_type": "execute_result"
    }
   ],
   "source": [
    "df.columns"
   ]
  },
  {
   "cell_type": "code",
   "execution_count": 30,
   "metadata": {},
   "outputs": [],
   "source": [
    "df_all = df.merge(df_stratified.drop_duplicates(), on= ['BMI', 'PhysicalHealth', 'MentalHealth', 'SleepTime', 'SmokingYes',\n",
    "       'AlcoholDrinkingYes', 'StrokeYes', 'DiffWalkingYes', 'SexMale',\n",
    "       'AgeCategory25-29',\n",
    "       'AgeCategory30-34', 'AgeCategory35-39', 'AgeCategory40-44',\n",
    "       'AgeCategory45-49', 'AgeCategory50-54', 'AgeCategory55-59',\n",
    "       'AgeCategory60-64', 'AgeCategory65-69', 'AgeCategory70-74',\n",
    "       'AgeCategory75-79', 'AgeCategory80 or older','PhysicalActivityYes','GenHealth',\n",
    "       'Severity', 'HeartDiseaseYes'], how=\"left\", indicator='True')\n",
    "\n",
    "train_dataset = df_all[df_all['True'] == 'left_only']\n",
    "\n",
    "X_train = train_dataset.drop([\"HeartDiseaseYes\", \"True\"], axis=1)\n",
    "y_train = train_dataset.HeartDiseaseYes"
   ]
  },
  {
   "cell_type": "code",
   "execution_count": 31,
   "metadata": {},
   "outputs": [
    {
     "name": "stdout",
     "output_type": "stream",
     "text": [
      "0.0    282729\n",
      "1.0     19808\n",
      "Name: HeartDiseaseYes, dtype: int64\n"
     ]
    },
    {
     "data": {
      "text/plain": [
       "0.0    7500\n",
       "1.0    7500\n",
       "Name: HeartDiseaseYes, dtype: int64"
      ]
     },
     "execution_count": 31,
     "metadata": {},
     "output_type": "execute_result"
    }
   ],
   "source": [
    "print(y_train.value_counts())\n",
    "y_test.value_counts()"
   ]
  },
  {
   "cell_type": "code",
   "execution_count": 33,
   "metadata": {},
   "outputs": [],
   "source": [
    "from sklearn.metrics import *"
   ]
  },
  {
   "cell_type": "code",
   "execution_count": 36,
   "metadata": {},
   "outputs": [
    {
     "data": {
      "text/html": [
       "<div>\n",
       "<style scoped>\n",
       "    .dataframe tbody tr th:only-of-type {\n",
       "        vertical-align: middle;\n",
       "    }\n",
       "\n",
       "    .dataframe tbody tr th {\n",
       "        vertical-align: top;\n",
       "    }\n",
       "\n",
       "    .dataframe thead th {\n",
       "        text-align: right;\n",
       "    }\n",
       "</style>\n",
       "<table border=\"1\" class=\"dataframe\">\n",
       "  <thead>\n",
       "    <tr style=\"text-align: right;\">\n",
       "      <th></th>\n",
       "      <th>Probability Cutoff</th>\n",
       "      <th>AUC Score</th>\n",
       "      <th>Precision Score</th>\n",
       "      <th>Recall Score</th>\n",
       "      <th>Accuracy Score</th>\n",
       "      <th>Kappa Score</th>\n",
       "      <th>f1-score</th>\n",
       "    </tr>\n",
       "  </thead>\n",
       "  <tbody>\n",
       "    <tr>\n",
       "      <th>0</th>\n",
       "      <td>0.4</td>\n",
       "      <td>0.766933</td>\n",
       "      <td>0.732899</td>\n",
       "      <td>0.84</td>\n",
       "      <td>0.766933</td>\n",
       "      <td>0.533867</td>\n",
       "      <td>0.782803</td>\n",
       "    </tr>\n",
       "  </tbody>\n",
       "</table>\n",
       "</div>"
      ],
      "text/plain": [
       "   Probability Cutoff  AUC Score  Precision Score  Recall Score  \\\n",
       "0                 0.4   0.766933         0.732899          0.84   \n",
       "\n",
       "   Accuracy Score  Kappa Score  f1-score  \n",
       "0        0.766933     0.533867  0.782803  "
      ]
     },
     "execution_count": 36,
     "metadata": {},
     "output_type": "execute_result"
    }
   ],
   "source": [
    "from sklearn.ensemble import StackingClassifier\n",
    "# define dataset\n",
    "X, y = X_train, y_train\n",
    "# define the base models\n",
    "level0 = list()\n",
    "level0.append(('lr', LogisticRegression(class_weight= {0:1, 1:14})))\n",
    "level0.append(('bayes', GaussianNB()))\n",
    "# define meta learner model\n",
    "level1 = LogisticRegression(class_weight= {0:1, 1:14})\n",
    "# define the stacking ensemble\n",
    "model = StackingClassifier(estimators=level0, final_estimator=level1, cv=)\n",
    "# fit the model on all available data\n",
    "model.fit(X, y)\n",
    "# make a prediction for one example\n",
    "y_pred_prob = model.predict_proba(X_test)\n",
    "y_pred_prob = list(pd.DataFrame(y_pred_prob)[1])\n",
    "y_pred = [0 if x < 0.4 else 1 for x in y_pred_prob]\n",
    "\n",
    "\n",
    "score_card = pd.DataFrame(columns=['Probability Cutoff', 'AUC Score', 'Precision Score', 'Recall Score',\n",
    "                                       'Accuracy Score', 'Kappa Score', 'f1-score'])\n",
    "\n",
    "\n",
    "\n",
    "score_card = score_card.append({'Probability Cutoff': 0.4,\n",
    "                                'AUC Score' : roc_auc_score(y_test, y_pred),\n",
    "                                'Precision Score': precision_score(y_test, y_pred),\n",
    "                                'Recall Score': recall_score(y_test, y_pred),\n",
    "                                'Accuracy Score': accuracy_score(y_test, y_pred),\n",
    "                                'Kappa Score':cohen_kappa_score(y_test, y_pred),\n",
    "                                'f1-score': f1_score(y_test, y_pred)}, \n",
    "                                ignore_index = True)\n",
    "score_card  "
   ]
  },
  {
   "cell_type": "markdown",
   "metadata": {},
   "source": [
    "--------------------"
   ]
  },
  {
   "cell_type": "code",
   "execution_count": 37,
   "metadata": {},
   "outputs": [],
   "source": [
    "df = pd.read_csv(\"heart_2020_cleaned.csv\")"
   ]
  },
  {
   "cell_type": "code",
   "execution_count": 38,
   "metadata": {
    "papermill": {
     "duration": 0.357633,
     "end_time": "2022-06-09T12:45:16.758330",
     "exception": false,
     "start_time": "2022-06-09T12:45:16.400697",
     "status": "completed"
    },
    "tags": []
   },
   "outputs": [],
   "source": [
    "df[\"id\"]=range(1,319796)\n",
    "df=df.set_index(\"id\")"
   ]
  },
  {
   "cell_type": "code",
   "execution_count": 39,
   "metadata": {
    "papermill": {
     "duration": 0.309697,
     "end_time": "2022-06-09T12:45:17.348621",
     "exception": false,
     "start_time": "2022-06-09T12:45:17.038924",
     "status": "completed"
    },
    "tags": []
   },
   "outputs": [
    {
     "data": {
      "text/html": [
       "<div>\n",
       "<style scoped>\n",
       "    .dataframe tbody tr th:only-of-type {\n",
       "        vertical-align: middle;\n",
       "    }\n",
       "\n",
       "    .dataframe tbody tr th {\n",
       "        vertical-align: top;\n",
       "    }\n",
       "\n",
       "    .dataframe thead th {\n",
       "        text-align: right;\n",
       "    }\n",
       "</style>\n",
       "<table border=\"1\" class=\"dataframe\">\n",
       "  <thead>\n",
       "    <tr style=\"text-align: right;\">\n",
       "      <th></th>\n",
       "      <th>HeartDisease</th>\n",
       "      <th>BMI</th>\n",
       "      <th>Smoking</th>\n",
       "      <th>AlcoholDrinking</th>\n",
       "      <th>Stroke</th>\n",
       "      <th>PhysicalHealth</th>\n",
       "      <th>MentalHealth</th>\n",
       "      <th>DiffWalking</th>\n",
       "      <th>Sex</th>\n",
       "      <th>AgeCategory</th>\n",
       "      <th>Race</th>\n",
       "      <th>Diabetic</th>\n",
       "      <th>PhysicalActivity</th>\n",
       "      <th>GenHealth</th>\n",
       "      <th>SleepTime</th>\n",
       "      <th>Asthma</th>\n",
       "      <th>KidneyDisease</th>\n",
       "      <th>SkinCancer</th>\n",
       "    </tr>\n",
       "    <tr>\n",
       "      <th>id</th>\n",
       "      <th></th>\n",
       "      <th></th>\n",
       "      <th></th>\n",
       "      <th></th>\n",
       "      <th></th>\n",
       "      <th></th>\n",
       "      <th></th>\n",
       "      <th></th>\n",
       "      <th></th>\n",
       "      <th></th>\n",
       "      <th></th>\n",
       "      <th></th>\n",
       "      <th></th>\n",
       "      <th></th>\n",
       "      <th></th>\n",
       "      <th></th>\n",
       "      <th></th>\n",
       "      <th></th>\n",
       "    </tr>\n",
       "  </thead>\n",
       "  <tbody>\n",
       "    <tr>\n",
       "      <th>1</th>\n",
       "      <td>No</td>\n",
       "      <td>16.60</td>\n",
       "      <td>Yes</td>\n",
       "      <td>No</td>\n",
       "      <td>No</td>\n",
       "      <td>3.0</td>\n",
       "      <td>30.0</td>\n",
       "      <td>No</td>\n",
       "      <td>Female</td>\n",
       "      <td>55-59</td>\n",
       "      <td>White</td>\n",
       "      <td>Yes</td>\n",
       "      <td>Yes</td>\n",
       "      <td>Very good</td>\n",
       "      <td>5.0</td>\n",
       "      <td>Yes</td>\n",
       "      <td>No</td>\n",
       "      <td>Yes</td>\n",
       "    </tr>\n",
       "    <tr>\n",
       "      <th>2</th>\n",
       "      <td>No</td>\n",
       "      <td>20.34</td>\n",
       "      <td>No</td>\n",
       "      <td>No</td>\n",
       "      <td>Yes</td>\n",
       "      <td>0.0</td>\n",
       "      <td>0.0</td>\n",
       "      <td>No</td>\n",
       "      <td>Female</td>\n",
       "      <td>80 or older</td>\n",
       "      <td>White</td>\n",
       "      <td>No</td>\n",
       "      <td>Yes</td>\n",
       "      <td>Very good</td>\n",
       "      <td>7.0</td>\n",
       "      <td>No</td>\n",
       "      <td>No</td>\n",
       "      <td>No</td>\n",
       "    </tr>\n",
       "    <tr>\n",
       "      <th>3</th>\n",
       "      <td>No</td>\n",
       "      <td>26.58</td>\n",
       "      <td>Yes</td>\n",
       "      <td>No</td>\n",
       "      <td>No</td>\n",
       "      <td>20.0</td>\n",
       "      <td>30.0</td>\n",
       "      <td>No</td>\n",
       "      <td>Male</td>\n",
       "      <td>65-69</td>\n",
       "      <td>White</td>\n",
       "      <td>Yes</td>\n",
       "      <td>Yes</td>\n",
       "      <td>Fair</td>\n",
       "      <td>8.0</td>\n",
       "      <td>Yes</td>\n",
       "      <td>No</td>\n",
       "      <td>No</td>\n",
       "    </tr>\n",
       "    <tr>\n",
       "      <th>4</th>\n",
       "      <td>No</td>\n",
       "      <td>24.21</td>\n",
       "      <td>No</td>\n",
       "      <td>No</td>\n",
       "      <td>No</td>\n",
       "      <td>0.0</td>\n",
       "      <td>0.0</td>\n",
       "      <td>No</td>\n",
       "      <td>Female</td>\n",
       "      <td>75-79</td>\n",
       "      <td>White</td>\n",
       "      <td>No</td>\n",
       "      <td>No</td>\n",
       "      <td>Good</td>\n",
       "      <td>6.0</td>\n",
       "      <td>No</td>\n",
       "      <td>No</td>\n",
       "      <td>Yes</td>\n",
       "    </tr>\n",
       "    <tr>\n",
       "      <th>5</th>\n",
       "      <td>No</td>\n",
       "      <td>23.71</td>\n",
       "      <td>No</td>\n",
       "      <td>No</td>\n",
       "      <td>No</td>\n",
       "      <td>28.0</td>\n",
       "      <td>0.0</td>\n",
       "      <td>Yes</td>\n",
       "      <td>Female</td>\n",
       "      <td>40-44</td>\n",
       "      <td>White</td>\n",
       "      <td>No</td>\n",
       "      <td>Yes</td>\n",
       "      <td>Very good</td>\n",
       "      <td>8.0</td>\n",
       "      <td>No</td>\n",
       "      <td>No</td>\n",
       "      <td>No</td>\n",
       "    </tr>\n",
       "    <tr>\n",
       "      <th>...</th>\n",
       "      <td>...</td>\n",
       "      <td>...</td>\n",
       "      <td>...</td>\n",
       "      <td>...</td>\n",
       "      <td>...</td>\n",
       "      <td>...</td>\n",
       "      <td>...</td>\n",
       "      <td>...</td>\n",
       "      <td>...</td>\n",
       "      <td>...</td>\n",
       "      <td>...</td>\n",
       "      <td>...</td>\n",
       "      <td>...</td>\n",
       "      <td>...</td>\n",
       "      <td>...</td>\n",
       "      <td>...</td>\n",
       "      <td>...</td>\n",
       "      <td>...</td>\n",
       "    </tr>\n",
       "    <tr>\n",
       "      <th>319791</th>\n",
       "      <td>Yes</td>\n",
       "      <td>27.41</td>\n",
       "      <td>Yes</td>\n",
       "      <td>No</td>\n",
       "      <td>No</td>\n",
       "      <td>7.0</td>\n",
       "      <td>0.0</td>\n",
       "      <td>Yes</td>\n",
       "      <td>Male</td>\n",
       "      <td>60-64</td>\n",
       "      <td>Hispanic</td>\n",
       "      <td>Yes</td>\n",
       "      <td>No</td>\n",
       "      <td>Fair</td>\n",
       "      <td>6.0</td>\n",
       "      <td>Yes</td>\n",
       "      <td>No</td>\n",
       "      <td>No</td>\n",
       "    </tr>\n",
       "    <tr>\n",
       "      <th>319792</th>\n",
       "      <td>No</td>\n",
       "      <td>29.84</td>\n",
       "      <td>Yes</td>\n",
       "      <td>No</td>\n",
       "      <td>No</td>\n",
       "      <td>0.0</td>\n",
       "      <td>0.0</td>\n",
       "      <td>No</td>\n",
       "      <td>Male</td>\n",
       "      <td>35-39</td>\n",
       "      <td>Hispanic</td>\n",
       "      <td>No</td>\n",
       "      <td>Yes</td>\n",
       "      <td>Very good</td>\n",
       "      <td>5.0</td>\n",
       "      <td>Yes</td>\n",
       "      <td>No</td>\n",
       "      <td>No</td>\n",
       "    </tr>\n",
       "    <tr>\n",
       "      <th>319793</th>\n",
       "      <td>No</td>\n",
       "      <td>24.24</td>\n",
       "      <td>No</td>\n",
       "      <td>No</td>\n",
       "      <td>No</td>\n",
       "      <td>0.0</td>\n",
       "      <td>0.0</td>\n",
       "      <td>No</td>\n",
       "      <td>Female</td>\n",
       "      <td>45-49</td>\n",
       "      <td>Hispanic</td>\n",
       "      <td>No</td>\n",
       "      <td>Yes</td>\n",
       "      <td>Good</td>\n",
       "      <td>6.0</td>\n",
       "      <td>No</td>\n",
       "      <td>No</td>\n",
       "      <td>No</td>\n",
       "    </tr>\n",
       "    <tr>\n",
       "      <th>319794</th>\n",
       "      <td>No</td>\n",
       "      <td>32.81</td>\n",
       "      <td>No</td>\n",
       "      <td>No</td>\n",
       "      <td>No</td>\n",
       "      <td>0.0</td>\n",
       "      <td>0.0</td>\n",
       "      <td>No</td>\n",
       "      <td>Female</td>\n",
       "      <td>25-29</td>\n",
       "      <td>Hispanic</td>\n",
       "      <td>No</td>\n",
       "      <td>No</td>\n",
       "      <td>Good</td>\n",
       "      <td>12.0</td>\n",
       "      <td>No</td>\n",
       "      <td>No</td>\n",
       "      <td>No</td>\n",
       "    </tr>\n",
       "    <tr>\n",
       "      <th>319795</th>\n",
       "      <td>No</td>\n",
       "      <td>46.56</td>\n",
       "      <td>No</td>\n",
       "      <td>No</td>\n",
       "      <td>No</td>\n",
       "      <td>0.0</td>\n",
       "      <td>0.0</td>\n",
       "      <td>No</td>\n",
       "      <td>Female</td>\n",
       "      <td>80 or older</td>\n",
       "      <td>Hispanic</td>\n",
       "      <td>No</td>\n",
       "      <td>Yes</td>\n",
       "      <td>Good</td>\n",
       "      <td>8.0</td>\n",
       "      <td>No</td>\n",
       "      <td>No</td>\n",
       "      <td>No</td>\n",
       "    </tr>\n",
       "  </tbody>\n",
       "</table>\n",
       "<p>319795 rows × 18 columns</p>\n",
       "</div>"
      ],
      "text/plain": [
       "       HeartDisease    BMI Smoking AlcoholDrinking Stroke  PhysicalHealth  \\\n",
       "id                                                                          \n",
       "1                No  16.60     Yes              No     No             3.0   \n",
       "2                No  20.34      No              No    Yes             0.0   \n",
       "3                No  26.58     Yes              No     No            20.0   \n",
       "4                No  24.21      No              No     No             0.0   \n",
       "5                No  23.71      No              No     No            28.0   \n",
       "...             ...    ...     ...             ...    ...             ...   \n",
       "319791          Yes  27.41     Yes              No     No             7.0   \n",
       "319792           No  29.84     Yes              No     No             0.0   \n",
       "319793           No  24.24      No              No     No             0.0   \n",
       "319794           No  32.81      No              No     No             0.0   \n",
       "319795           No  46.56      No              No     No             0.0   \n",
       "\n",
       "        MentalHealth DiffWalking     Sex  AgeCategory      Race Diabetic  \\\n",
       "id                                                                         \n",
       "1               30.0          No  Female        55-59     White      Yes   \n",
       "2                0.0          No  Female  80 or older     White       No   \n",
       "3               30.0          No    Male        65-69     White      Yes   \n",
       "4                0.0          No  Female        75-79     White       No   \n",
       "5                0.0         Yes  Female        40-44     White       No   \n",
       "...              ...         ...     ...          ...       ...      ...   \n",
       "319791           0.0         Yes    Male        60-64  Hispanic      Yes   \n",
       "319792           0.0          No    Male        35-39  Hispanic       No   \n",
       "319793           0.0          No  Female        45-49  Hispanic       No   \n",
       "319794           0.0          No  Female        25-29  Hispanic       No   \n",
       "319795           0.0          No  Female  80 or older  Hispanic       No   \n",
       "\n",
       "       PhysicalActivity  GenHealth  SleepTime Asthma KidneyDisease SkinCancer  \n",
       "id                                                                             \n",
       "1                   Yes  Very good        5.0    Yes            No        Yes  \n",
       "2                   Yes  Very good        7.0     No            No         No  \n",
       "3                   Yes       Fair        8.0    Yes            No         No  \n",
       "4                    No       Good        6.0     No            No        Yes  \n",
       "5                   Yes  Very good        8.0     No            No         No  \n",
       "...                 ...        ...        ...    ...           ...        ...  \n",
       "319791               No       Fair        6.0    Yes            No         No  \n",
       "319792              Yes  Very good        5.0    Yes            No         No  \n",
       "319793              Yes       Good        6.0     No            No         No  \n",
       "319794               No       Good       12.0     No            No         No  \n",
       "319795              Yes       Good        8.0     No            No         No  \n",
       "\n",
       "[319795 rows x 18 columns]"
      ]
     },
     "execution_count": 39,
     "metadata": {},
     "output_type": "execute_result"
    }
   ],
   "source": [
    "df"
   ]
  },
  {
   "cell_type": "code",
   "execution_count": 40,
   "metadata": {},
   "outputs": [],
   "source": [
    "df.GenHealth = df.GenHealth.astype('object')"
   ]
  },
  {
   "cell_type": "code",
   "execution_count": 41,
   "metadata": {},
   "outputs": [
    {
     "data": {
      "text/html": [
       "<div>\n",
       "<style scoped>\n",
       "    .dataframe tbody tr th:only-of-type {\n",
       "        vertical-align: middle;\n",
       "    }\n",
       "\n",
       "    .dataframe tbody tr th {\n",
       "        vertical-align: top;\n",
       "    }\n",
       "\n",
       "    .dataframe thead th {\n",
       "        text-align: right;\n",
       "    }\n",
       "</style>\n",
       "<table border=\"1\" class=\"dataframe\">\n",
       "  <thead>\n",
       "    <tr style=\"text-align: right;\">\n",
       "      <th></th>\n",
       "      <th>HeartDisease</th>\n",
       "      <th>Smoking</th>\n",
       "      <th>AlcoholDrinking</th>\n",
       "      <th>Stroke</th>\n",
       "      <th>DiffWalking</th>\n",
       "      <th>Sex</th>\n",
       "      <th>AgeCategory</th>\n",
       "      <th>Race</th>\n",
       "      <th>Diabetic</th>\n",
       "      <th>PhysicalActivity</th>\n",
       "      <th>GenHealth</th>\n",
       "      <th>Asthma</th>\n",
       "      <th>KidneyDisease</th>\n",
       "      <th>SkinCancer</th>\n",
       "    </tr>\n",
       "    <tr>\n",
       "      <th>id</th>\n",
       "      <th></th>\n",
       "      <th></th>\n",
       "      <th></th>\n",
       "      <th></th>\n",
       "      <th></th>\n",
       "      <th></th>\n",
       "      <th></th>\n",
       "      <th></th>\n",
       "      <th></th>\n",
       "      <th></th>\n",
       "      <th></th>\n",
       "      <th></th>\n",
       "      <th></th>\n",
       "      <th></th>\n",
       "    </tr>\n",
       "  </thead>\n",
       "  <tbody>\n",
       "    <tr>\n",
       "      <th>1</th>\n",
       "      <td>No</td>\n",
       "      <td>Yes</td>\n",
       "      <td>No</td>\n",
       "      <td>No</td>\n",
       "      <td>No</td>\n",
       "      <td>Female</td>\n",
       "      <td>55-59</td>\n",
       "      <td>White</td>\n",
       "      <td>Yes</td>\n",
       "      <td>Yes</td>\n",
       "      <td>Very good</td>\n",
       "      <td>Yes</td>\n",
       "      <td>No</td>\n",
       "      <td>Yes</td>\n",
       "    </tr>\n",
       "    <tr>\n",
       "      <th>2</th>\n",
       "      <td>No</td>\n",
       "      <td>No</td>\n",
       "      <td>No</td>\n",
       "      <td>Yes</td>\n",
       "      <td>No</td>\n",
       "      <td>Female</td>\n",
       "      <td>80 or older</td>\n",
       "      <td>White</td>\n",
       "      <td>No</td>\n",
       "      <td>Yes</td>\n",
       "      <td>Very good</td>\n",
       "      <td>No</td>\n",
       "      <td>No</td>\n",
       "      <td>No</td>\n",
       "    </tr>\n",
       "    <tr>\n",
       "      <th>3</th>\n",
       "      <td>No</td>\n",
       "      <td>Yes</td>\n",
       "      <td>No</td>\n",
       "      <td>No</td>\n",
       "      <td>No</td>\n",
       "      <td>Male</td>\n",
       "      <td>65-69</td>\n",
       "      <td>White</td>\n",
       "      <td>Yes</td>\n",
       "      <td>Yes</td>\n",
       "      <td>Fair</td>\n",
       "      <td>Yes</td>\n",
       "      <td>No</td>\n",
       "      <td>No</td>\n",
       "    </tr>\n",
       "    <tr>\n",
       "      <th>4</th>\n",
       "      <td>No</td>\n",
       "      <td>No</td>\n",
       "      <td>No</td>\n",
       "      <td>No</td>\n",
       "      <td>No</td>\n",
       "      <td>Female</td>\n",
       "      <td>75-79</td>\n",
       "      <td>White</td>\n",
       "      <td>No</td>\n",
       "      <td>No</td>\n",
       "      <td>Good</td>\n",
       "      <td>No</td>\n",
       "      <td>No</td>\n",
       "      <td>Yes</td>\n",
       "    </tr>\n",
       "    <tr>\n",
       "      <th>5</th>\n",
       "      <td>No</td>\n",
       "      <td>No</td>\n",
       "      <td>No</td>\n",
       "      <td>No</td>\n",
       "      <td>Yes</td>\n",
       "      <td>Female</td>\n",
       "      <td>40-44</td>\n",
       "      <td>White</td>\n",
       "      <td>No</td>\n",
       "      <td>Yes</td>\n",
       "      <td>Very good</td>\n",
       "      <td>No</td>\n",
       "      <td>No</td>\n",
       "      <td>No</td>\n",
       "    </tr>\n",
       "    <tr>\n",
       "      <th>...</th>\n",
       "      <td>...</td>\n",
       "      <td>...</td>\n",
       "      <td>...</td>\n",
       "      <td>...</td>\n",
       "      <td>...</td>\n",
       "      <td>...</td>\n",
       "      <td>...</td>\n",
       "      <td>...</td>\n",
       "      <td>...</td>\n",
       "      <td>...</td>\n",
       "      <td>...</td>\n",
       "      <td>...</td>\n",
       "      <td>...</td>\n",
       "      <td>...</td>\n",
       "    </tr>\n",
       "    <tr>\n",
       "      <th>319791</th>\n",
       "      <td>Yes</td>\n",
       "      <td>Yes</td>\n",
       "      <td>No</td>\n",
       "      <td>No</td>\n",
       "      <td>Yes</td>\n",
       "      <td>Male</td>\n",
       "      <td>60-64</td>\n",
       "      <td>Hispanic</td>\n",
       "      <td>Yes</td>\n",
       "      <td>No</td>\n",
       "      <td>Fair</td>\n",
       "      <td>Yes</td>\n",
       "      <td>No</td>\n",
       "      <td>No</td>\n",
       "    </tr>\n",
       "    <tr>\n",
       "      <th>319792</th>\n",
       "      <td>No</td>\n",
       "      <td>Yes</td>\n",
       "      <td>No</td>\n",
       "      <td>No</td>\n",
       "      <td>No</td>\n",
       "      <td>Male</td>\n",
       "      <td>35-39</td>\n",
       "      <td>Hispanic</td>\n",
       "      <td>No</td>\n",
       "      <td>Yes</td>\n",
       "      <td>Very good</td>\n",
       "      <td>Yes</td>\n",
       "      <td>No</td>\n",
       "      <td>No</td>\n",
       "    </tr>\n",
       "    <tr>\n",
       "      <th>319793</th>\n",
       "      <td>No</td>\n",
       "      <td>No</td>\n",
       "      <td>No</td>\n",
       "      <td>No</td>\n",
       "      <td>No</td>\n",
       "      <td>Female</td>\n",
       "      <td>45-49</td>\n",
       "      <td>Hispanic</td>\n",
       "      <td>No</td>\n",
       "      <td>Yes</td>\n",
       "      <td>Good</td>\n",
       "      <td>No</td>\n",
       "      <td>No</td>\n",
       "      <td>No</td>\n",
       "    </tr>\n",
       "    <tr>\n",
       "      <th>319794</th>\n",
       "      <td>No</td>\n",
       "      <td>No</td>\n",
       "      <td>No</td>\n",
       "      <td>No</td>\n",
       "      <td>No</td>\n",
       "      <td>Female</td>\n",
       "      <td>25-29</td>\n",
       "      <td>Hispanic</td>\n",
       "      <td>No</td>\n",
       "      <td>No</td>\n",
       "      <td>Good</td>\n",
       "      <td>No</td>\n",
       "      <td>No</td>\n",
       "      <td>No</td>\n",
       "    </tr>\n",
       "    <tr>\n",
       "      <th>319795</th>\n",
       "      <td>No</td>\n",
       "      <td>No</td>\n",
       "      <td>No</td>\n",
       "      <td>No</td>\n",
       "      <td>No</td>\n",
       "      <td>Female</td>\n",
       "      <td>80 or older</td>\n",
       "      <td>Hispanic</td>\n",
       "      <td>No</td>\n",
       "      <td>Yes</td>\n",
       "      <td>Good</td>\n",
       "      <td>No</td>\n",
       "      <td>No</td>\n",
       "      <td>No</td>\n",
       "    </tr>\n",
       "  </tbody>\n",
       "</table>\n",
       "<p>319795 rows × 14 columns</p>\n",
       "</div>"
      ],
      "text/plain": [
       "       HeartDisease Smoking AlcoholDrinking Stroke DiffWalking     Sex  \\\n",
       "id                                                                       \n",
       "1                No     Yes              No     No          No  Female   \n",
       "2                No      No              No    Yes          No  Female   \n",
       "3                No     Yes              No     No          No    Male   \n",
       "4                No      No              No     No          No  Female   \n",
       "5                No      No              No     No         Yes  Female   \n",
       "...             ...     ...             ...    ...         ...     ...   \n",
       "319791          Yes     Yes              No     No         Yes    Male   \n",
       "319792           No     Yes              No     No          No    Male   \n",
       "319793           No      No              No     No          No  Female   \n",
       "319794           No      No              No     No          No  Female   \n",
       "319795           No      No              No     No          No  Female   \n",
       "\n",
       "        AgeCategory      Race Diabetic PhysicalActivity  GenHealth Asthma  \\\n",
       "id                                                                          \n",
       "1             55-59     White      Yes              Yes  Very good    Yes   \n",
       "2       80 or older     White       No              Yes  Very good     No   \n",
       "3             65-69     White      Yes              Yes       Fair    Yes   \n",
       "4             75-79     White       No               No       Good     No   \n",
       "5             40-44     White       No              Yes  Very good     No   \n",
       "...             ...       ...      ...              ...        ...    ...   \n",
       "319791        60-64  Hispanic      Yes               No       Fair    Yes   \n",
       "319792        35-39  Hispanic       No              Yes  Very good    Yes   \n",
       "319793        45-49  Hispanic       No              Yes       Good     No   \n",
       "319794        25-29  Hispanic       No               No       Good     No   \n",
       "319795  80 or older  Hispanic       No              Yes       Good     No   \n",
       "\n",
       "       KidneyDisease SkinCancer  \n",
       "id                               \n",
       "1                 No        Yes  \n",
       "2                 No         No  \n",
       "3                 No         No  \n",
       "4                 No        Yes  \n",
       "5                 No         No  \n",
       "...              ...        ...  \n",
       "319791            No         No  \n",
       "319792            No         No  \n",
       "319793            No         No  \n",
       "319794            No         No  \n",
       "319795            No         No  \n",
       "\n",
       "[319795 rows x 14 columns]"
      ]
     },
     "execution_count": 41,
     "metadata": {},
     "output_type": "execute_result"
    }
   ],
   "source": [
    "df_cat=df.select_dtypes(include=[\"object\"])\n",
    "df_cat"
   ]
  },
  {
   "cell_type": "code",
   "execution_count": 42,
   "metadata": {
    "papermill": {
     "duration": 0.300531,
     "end_time": "2022-06-09T12:45:17.933174",
     "exception": false,
     "start_time": "2022-06-09T12:45:17.632643",
     "status": "completed"
    },
    "tags": []
   },
   "outputs": [
    {
     "data": {
      "text/plain": [
       "Index(['HeartDisease', 'Smoking', 'AlcoholDrinking', 'Stroke', 'DiffWalking',\n",
       "       'Sex', 'AgeCategory', 'Race', 'Diabetic', 'PhysicalActivity',\n",
       "       'GenHealth', 'Asthma', 'KidneyDisease', 'SkinCancer'],\n",
       "      dtype='object')"
      ]
     },
     "execution_count": 42,
     "metadata": {},
     "output_type": "execute_result"
    }
   ],
   "source": [
    "df_cat=df_cat.columns\n",
    "df_cat"
   ]
  },
  {
   "cell_type": "code",
   "execution_count": 43,
   "metadata": {
    "papermill": {
     "duration": 4.036677,
     "end_time": "2022-06-09T12:45:22.252434",
     "exception": false,
     "start_time": "2022-06-09T12:45:18.215757",
     "status": "completed"
    },
    "tags": []
   },
   "outputs": [],
   "source": [
    "for var in df_cat:\n",
    "    Dummy=pd.get_dummies(df[var], drop_first= True).add_prefix(var)\n",
    "    df=df.merge(Dummy,on=\"id\")\n",
    "    df=df.drop([var],axis=1)"
   ]
  },
  {
   "cell_type": "code",
   "execution_count": 44,
   "metadata": {
    "papermill": {
     "duration": 0.287658,
     "end_time": "2022-06-09T12:45:23.404116",
     "exception": false,
     "start_time": "2022-06-09T12:45:23.116458",
     "status": "completed"
    },
    "tags": []
   },
   "outputs": [],
   "source": [
    "y=df.HeartDiseaseYes"
   ]
  },
  {
   "cell_type": "code",
   "execution_count": 45,
   "metadata": {
    "papermill": {
     "duration": 0.699397,
     "end_time": "2022-06-09T12:45:24.384235",
     "exception": false,
     "start_time": "2022-06-09T12:45:23.684838",
     "status": "completed"
    },
    "tags": []
   },
   "outputs": [
    {
     "data": {
      "text/html": [
       "<div>\n",
       "<style scoped>\n",
       "    .dataframe tbody tr th:only-of-type {\n",
       "        vertical-align: middle;\n",
       "    }\n",
       "\n",
       "    .dataframe tbody tr th {\n",
       "        vertical-align: top;\n",
       "    }\n",
       "\n",
       "    .dataframe thead th {\n",
       "        text-align: right;\n",
       "    }\n",
       "</style>\n",
       "<table border=\"1\" class=\"dataframe\">\n",
       "  <thead>\n",
       "    <tr style=\"text-align: right;\">\n",
       "      <th></th>\n",
       "      <th>count</th>\n",
       "      <th>mean</th>\n",
       "      <th>std</th>\n",
       "      <th>min</th>\n",
       "      <th>25%</th>\n",
       "      <th>50%</th>\n",
       "      <th>75%</th>\n",
       "      <th>max</th>\n",
       "    </tr>\n",
       "  </thead>\n",
       "  <tbody>\n",
       "    <tr>\n",
       "      <th>BMI</th>\n",
       "      <td>319795.0</td>\n",
       "      <td>28.325399</td>\n",
       "      <td>6.356100</td>\n",
       "      <td>12.02</td>\n",
       "      <td>24.03</td>\n",
       "      <td>27.34</td>\n",
       "      <td>31.42</td>\n",
       "      <td>94.85</td>\n",
       "    </tr>\n",
       "    <tr>\n",
       "      <th>PhysicalHealth</th>\n",
       "      <td>319795.0</td>\n",
       "      <td>3.371710</td>\n",
       "      <td>7.950850</td>\n",
       "      <td>0.00</td>\n",
       "      <td>0.00</td>\n",
       "      <td>0.00</td>\n",
       "      <td>2.00</td>\n",
       "      <td>30.00</td>\n",
       "    </tr>\n",
       "    <tr>\n",
       "      <th>MentalHealth</th>\n",
       "      <td>319795.0</td>\n",
       "      <td>3.898366</td>\n",
       "      <td>7.955235</td>\n",
       "      <td>0.00</td>\n",
       "      <td>0.00</td>\n",
       "      <td>0.00</td>\n",
       "      <td>3.00</td>\n",
       "      <td>30.00</td>\n",
       "    </tr>\n",
       "    <tr>\n",
       "      <th>SleepTime</th>\n",
       "      <td>319795.0</td>\n",
       "      <td>7.097075</td>\n",
       "      <td>1.436007</td>\n",
       "      <td>1.00</td>\n",
       "      <td>6.00</td>\n",
       "      <td>7.00</td>\n",
       "      <td>8.00</td>\n",
       "      <td>24.00</td>\n",
       "    </tr>\n",
       "    <tr>\n",
       "      <th>HeartDiseaseYes</th>\n",
       "      <td>319795.0</td>\n",
       "      <td>0.085595</td>\n",
       "      <td>0.279766</td>\n",
       "      <td>0.00</td>\n",
       "      <td>0.00</td>\n",
       "      <td>0.00</td>\n",
       "      <td>0.00</td>\n",
       "      <td>1.00</td>\n",
       "    </tr>\n",
       "    <tr>\n",
       "      <th>SmokingYes</th>\n",
       "      <td>319795.0</td>\n",
       "      <td>0.412477</td>\n",
       "      <td>0.492281</td>\n",
       "      <td>0.00</td>\n",
       "      <td>0.00</td>\n",
       "      <td>0.00</td>\n",
       "      <td>1.00</td>\n",
       "      <td>1.00</td>\n",
       "    </tr>\n",
       "    <tr>\n",
       "      <th>AlcoholDrinkingYes</th>\n",
       "      <td>319795.0</td>\n",
       "      <td>0.068097</td>\n",
       "      <td>0.251912</td>\n",
       "      <td>0.00</td>\n",
       "      <td>0.00</td>\n",
       "      <td>0.00</td>\n",
       "      <td>0.00</td>\n",
       "      <td>1.00</td>\n",
       "    </tr>\n",
       "    <tr>\n",
       "      <th>StrokeYes</th>\n",
       "      <td>319795.0</td>\n",
       "      <td>0.037740</td>\n",
       "      <td>0.190567</td>\n",
       "      <td>0.00</td>\n",
       "      <td>0.00</td>\n",
       "      <td>0.00</td>\n",
       "      <td>0.00</td>\n",
       "      <td>1.00</td>\n",
       "    </tr>\n",
       "    <tr>\n",
       "      <th>DiffWalkingYes</th>\n",
       "      <td>319795.0</td>\n",
       "      <td>0.138870</td>\n",
       "      <td>0.345812</td>\n",
       "      <td>0.00</td>\n",
       "      <td>0.00</td>\n",
       "      <td>0.00</td>\n",
       "      <td>0.00</td>\n",
       "      <td>1.00</td>\n",
       "    </tr>\n",
       "    <tr>\n",
       "      <th>SexMale</th>\n",
       "      <td>319795.0</td>\n",
       "      <td>0.475273</td>\n",
       "      <td>0.499389</td>\n",
       "      <td>0.00</td>\n",
       "      <td>0.00</td>\n",
       "      <td>0.00</td>\n",
       "      <td>1.00</td>\n",
       "      <td>1.00</td>\n",
       "    </tr>\n",
       "    <tr>\n",
       "      <th>AgeCategory25-29</th>\n",
       "      <td>319795.0</td>\n",
       "      <td>0.053018</td>\n",
       "      <td>0.224070</td>\n",
       "      <td>0.00</td>\n",
       "      <td>0.00</td>\n",
       "      <td>0.00</td>\n",
       "      <td>0.00</td>\n",
       "      <td>1.00</td>\n",
       "    </tr>\n",
       "    <tr>\n",
       "      <th>AgeCategory30-34</th>\n",
       "      <td>319795.0</td>\n",
       "      <td>0.058641</td>\n",
       "      <td>0.234951</td>\n",
       "      <td>0.00</td>\n",
       "      <td>0.00</td>\n",
       "      <td>0.00</td>\n",
       "      <td>0.00</td>\n",
       "      <td>1.00</td>\n",
       "    </tr>\n",
       "    <tr>\n",
       "      <th>AgeCategory35-39</th>\n",
       "      <td>319795.0</td>\n",
       "      <td>0.064260</td>\n",
       "      <td>0.245216</td>\n",
       "      <td>0.00</td>\n",
       "      <td>0.00</td>\n",
       "      <td>0.00</td>\n",
       "      <td>0.00</td>\n",
       "      <td>1.00</td>\n",
       "    </tr>\n",
       "    <tr>\n",
       "      <th>AgeCategory40-44</th>\n",
       "      <td>319795.0</td>\n",
       "      <td>0.065686</td>\n",
       "      <td>0.247733</td>\n",
       "      <td>0.00</td>\n",
       "      <td>0.00</td>\n",
       "      <td>0.00</td>\n",
       "      <td>0.00</td>\n",
       "      <td>1.00</td>\n",
       "    </tr>\n",
       "    <tr>\n",
       "      <th>AgeCategory45-49</th>\n",
       "      <td>319795.0</td>\n",
       "      <td>0.068141</td>\n",
       "      <td>0.251987</td>\n",
       "      <td>0.00</td>\n",
       "      <td>0.00</td>\n",
       "      <td>0.00</td>\n",
       "      <td>0.00</td>\n",
       "      <td>1.00</td>\n",
       "    </tr>\n",
       "    <tr>\n",
       "      <th>AgeCategory50-54</th>\n",
       "      <td>319795.0</td>\n",
       "      <td>0.079370</td>\n",
       "      <td>0.270315</td>\n",
       "      <td>0.00</td>\n",
       "      <td>0.00</td>\n",
       "      <td>0.00</td>\n",
       "      <td>0.00</td>\n",
       "      <td>1.00</td>\n",
       "    </tr>\n",
       "    <tr>\n",
       "      <th>AgeCategory55-59</th>\n",
       "      <td>319795.0</td>\n",
       "      <td>0.093050</td>\n",
       "      <td>0.290503</td>\n",
       "      <td>0.00</td>\n",
       "      <td>0.00</td>\n",
       "      <td>0.00</td>\n",
       "      <td>0.00</td>\n",
       "      <td>1.00</td>\n",
       "    </tr>\n",
       "    <tr>\n",
       "      <th>AgeCategory60-64</th>\n",
       "      <td>319795.0</td>\n",
       "      <td>0.105336</td>\n",
       "      <td>0.306987</td>\n",
       "      <td>0.00</td>\n",
       "      <td>0.00</td>\n",
       "      <td>0.00</td>\n",
       "      <td>0.00</td>\n",
       "      <td>1.00</td>\n",
       "    </tr>\n",
       "    <tr>\n",
       "      <th>AgeCategory65-69</th>\n",
       "      <td>319795.0</td>\n",
       "      <td>0.106790</td>\n",
       "      <td>0.308847</td>\n",
       "      <td>0.00</td>\n",
       "      <td>0.00</td>\n",
       "      <td>0.00</td>\n",
       "      <td>0.00</td>\n",
       "      <td>1.00</td>\n",
       "    </tr>\n",
       "    <tr>\n",
       "      <th>AgeCategory70-74</th>\n",
       "      <td>319795.0</td>\n",
       "      <td>0.097140</td>\n",
       "      <td>0.296149</td>\n",
       "      <td>0.00</td>\n",
       "      <td>0.00</td>\n",
       "      <td>0.00</td>\n",
       "      <td>0.00</td>\n",
       "      <td>1.00</td>\n",
       "    </tr>\n",
       "    <tr>\n",
       "      <th>AgeCategory75-79</th>\n",
       "      <td>319795.0</td>\n",
       "      <td>0.067174</td>\n",
       "      <td>0.250324</td>\n",
       "      <td>0.00</td>\n",
       "      <td>0.00</td>\n",
       "      <td>0.00</td>\n",
       "      <td>0.00</td>\n",
       "      <td>1.00</td>\n",
       "    </tr>\n",
       "    <tr>\n",
       "      <th>AgeCategory80 or older</th>\n",
       "      <td>319795.0</td>\n",
       "      <td>0.075527</td>\n",
       "      <td>0.264239</td>\n",
       "      <td>0.00</td>\n",
       "      <td>0.00</td>\n",
       "      <td>0.00</td>\n",
       "      <td>0.00</td>\n",
       "      <td>1.00</td>\n",
       "    </tr>\n",
       "    <tr>\n",
       "      <th>RaceAsian</th>\n",
       "      <td>319795.0</td>\n",
       "      <td>0.025229</td>\n",
       "      <td>0.156819</td>\n",
       "      <td>0.00</td>\n",
       "      <td>0.00</td>\n",
       "      <td>0.00</td>\n",
       "      <td>0.00</td>\n",
       "      <td>1.00</td>\n",
       "    </tr>\n",
       "    <tr>\n",
       "      <th>RaceBlack</th>\n",
       "      <td>319795.0</td>\n",
       "      <td>0.071730</td>\n",
       "      <td>0.258041</td>\n",
       "      <td>0.00</td>\n",
       "      <td>0.00</td>\n",
       "      <td>0.00</td>\n",
       "      <td>0.00</td>\n",
       "      <td>1.00</td>\n",
       "    </tr>\n",
       "    <tr>\n",
       "      <th>RaceHispanic</th>\n",
       "      <td>319795.0</td>\n",
       "      <td>0.085824</td>\n",
       "      <td>0.280104</td>\n",
       "      <td>0.00</td>\n",
       "      <td>0.00</td>\n",
       "      <td>0.00</td>\n",
       "      <td>0.00</td>\n",
       "      <td>1.00</td>\n",
       "    </tr>\n",
       "    <tr>\n",
       "      <th>RaceOther</th>\n",
       "      <td>319795.0</td>\n",
       "      <td>0.034172</td>\n",
       "      <td>0.181671</td>\n",
       "      <td>0.00</td>\n",
       "      <td>0.00</td>\n",
       "      <td>0.00</td>\n",
       "      <td>0.00</td>\n",
       "      <td>1.00</td>\n",
       "    </tr>\n",
       "    <tr>\n",
       "      <th>RaceWhite</th>\n",
       "      <td>319795.0</td>\n",
       "      <td>0.766779</td>\n",
       "      <td>0.422883</td>\n",
       "      <td>0.00</td>\n",
       "      <td>1.00</td>\n",
       "      <td>1.00</td>\n",
       "      <td>1.00</td>\n",
       "      <td>1.00</td>\n",
       "    </tr>\n",
       "    <tr>\n",
       "      <th>DiabeticNo, borderline diabetes</th>\n",
       "      <td>319795.0</td>\n",
       "      <td>0.021204</td>\n",
       "      <td>0.144065</td>\n",
       "      <td>0.00</td>\n",
       "      <td>0.00</td>\n",
       "      <td>0.00</td>\n",
       "      <td>0.00</td>\n",
       "      <td>1.00</td>\n",
       "    </tr>\n",
       "    <tr>\n",
       "      <th>DiabeticYes</th>\n",
       "      <td>319795.0</td>\n",
       "      <td>0.127588</td>\n",
       "      <td>0.333631</td>\n",
       "      <td>0.00</td>\n",
       "      <td>0.00</td>\n",
       "      <td>0.00</td>\n",
       "      <td>0.00</td>\n",
       "      <td>1.00</td>\n",
       "    </tr>\n",
       "    <tr>\n",
       "      <th>DiabeticYes (during pregnancy)</th>\n",
       "      <td>319795.0</td>\n",
       "      <td>0.008002</td>\n",
       "      <td>0.089095</td>\n",
       "      <td>0.00</td>\n",
       "      <td>0.00</td>\n",
       "      <td>0.00</td>\n",
       "      <td>0.00</td>\n",
       "      <td>1.00</td>\n",
       "    </tr>\n",
       "    <tr>\n",
       "      <th>PhysicalActivityYes</th>\n",
       "      <td>319795.0</td>\n",
       "      <td>0.775362</td>\n",
       "      <td>0.417344</td>\n",
       "      <td>0.00</td>\n",
       "      <td>1.00</td>\n",
       "      <td>1.00</td>\n",
       "      <td>1.00</td>\n",
       "      <td>1.00</td>\n",
       "    </tr>\n",
       "    <tr>\n",
       "      <th>GenHealthFair</th>\n",
       "      <td>319795.0</td>\n",
       "      <td>0.108435</td>\n",
       "      <td>0.310930</td>\n",
       "      <td>0.00</td>\n",
       "      <td>0.00</td>\n",
       "      <td>0.00</td>\n",
       "      <td>0.00</td>\n",
       "      <td>1.00</td>\n",
       "    </tr>\n",
       "    <tr>\n",
       "      <th>GenHealthGood</th>\n",
       "      <td>319795.0</td>\n",
       "      <td>0.291215</td>\n",
       "      <td>0.454323</td>\n",
       "      <td>0.00</td>\n",
       "      <td>0.00</td>\n",
       "      <td>0.00</td>\n",
       "      <td>1.00</td>\n",
       "      <td>1.00</td>\n",
       "    </tr>\n",
       "    <tr>\n",
       "      <th>GenHealthPoor</th>\n",
       "      <td>319795.0</td>\n",
       "      <td>0.035301</td>\n",
       "      <td>0.184539</td>\n",
       "      <td>0.00</td>\n",
       "      <td>0.00</td>\n",
       "      <td>0.00</td>\n",
       "      <td>0.00</td>\n",
       "      <td>1.00</td>\n",
       "    </tr>\n",
       "    <tr>\n",
       "      <th>GenHealthVery good</th>\n",
       "      <td>319795.0</td>\n",
       "      <td>0.356034</td>\n",
       "      <td>0.478826</td>\n",
       "      <td>0.00</td>\n",
       "      <td>0.00</td>\n",
       "      <td>0.00</td>\n",
       "      <td>1.00</td>\n",
       "      <td>1.00</td>\n",
       "    </tr>\n",
       "    <tr>\n",
       "      <th>AsthmaYes</th>\n",
       "      <td>319795.0</td>\n",
       "      <td>0.134061</td>\n",
       "      <td>0.340718</td>\n",
       "      <td>0.00</td>\n",
       "      <td>0.00</td>\n",
       "      <td>0.00</td>\n",
       "      <td>0.00</td>\n",
       "      <td>1.00</td>\n",
       "    </tr>\n",
       "    <tr>\n",
       "      <th>KidneyDiseaseYes</th>\n",
       "      <td>319795.0</td>\n",
       "      <td>0.036833</td>\n",
       "      <td>0.188352</td>\n",
       "      <td>0.00</td>\n",
       "      <td>0.00</td>\n",
       "      <td>0.00</td>\n",
       "      <td>0.00</td>\n",
       "      <td>1.00</td>\n",
       "    </tr>\n",
       "    <tr>\n",
       "      <th>SkinCancerYes</th>\n",
       "      <td>319795.0</td>\n",
       "      <td>0.093244</td>\n",
       "      <td>0.290775</td>\n",
       "      <td>0.00</td>\n",
       "      <td>0.00</td>\n",
       "      <td>0.00</td>\n",
       "      <td>0.00</td>\n",
       "      <td>1.00</td>\n",
       "    </tr>\n",
       "  </tbody>\n",
       "</table>\n",
       "</div>"
      ],
      "text/plain": [
       "                                    count       mean       std    min    25%  \\\n",
       "BMI                              319795.0  28.325399  6.356100  12.02  24.03   \n",
       "PhysicalHealth                   319795.0   3.371710  7.950850   0.00   0.00   \n",
       "MentalHealth                     319795.0   3.898366  7.955235   0.00   0.00   \n",
       "SleepTime                        319795.0   7.097075  1.436007   1.00   6.00   \n",
       "HeartDiseaseYes                  319795.0   0.085595  0.279766   0.00   0.00   \n",
       "SmokingYes                       319795.0   0.412477  0.492281   0.00   0.00   \n",
       "AlcoholDrinkingYes               319795.0   0.068097  0.251912   0.00   0.00   \n",
       "StrokeYes                        319795.0   0.037740  0.190567   0.00   0.00   \n",
       "DiffWalkingYes                   319795.0   0.138870  0.345812   0.00   0.00   \n",
       "SexMale                          319795.0   0.475273  0.499389   0.00   0.00   \n",
       "AgeCategory25-29                 319795.0   0.053018  0.224070   0.00   0.00   \n",
       "AgeCategory30-34                 319795.0   0.058641  0.234951   0.00   0.00   \n",
       "AgeCategory35-39                 319795.0   0.064260  0.245216   0.00   0.00   \n",
       "AgeCategory40-44                 319795.0   0.065686  0.247733   0.00   0.00   \n",
       "AgeCategory45-49                 319795.0   0.068141  0.251987   0.00   0.00   \n",
       "AgeCategory50-54                 319795.0   0.079370  0.270315   0.00   0.00   \n",
       "AgeCategory55-59                 319795.0   0.093050  0.290503   0.00   0.00   \n",
       "AgeCategory60-64                 319795.0   0.105336  0.306987   0.00   0.00   \n",
       "AgeCategory65-69                 319795.0   0.106790  0.308847   0.00   0.00   \n",
       "AgeCategory70-74                 319795.0   0.097140  0.296149   0.00   0.00   \n",
       "AgeCategory75-79                 319795.0   0.067174  0.250324   0.00   0.00   \n",
       "AgeCategory80 or older           319795.0   0.075527  0.264239   0.00   0.00   \n",
       "RaceAsian                        319795.0   0.025229  0.156819   0.00   0.00   \n",
       "RaceBlack                        319795.0   0.071730  0.258041   0.00   0.00   \n",
       "RaceHispanic                     319795.0   0.085824  0.280104   0.00   0.00   \n",
       "RaceOther                        319795.0   0.034172  0.181671   0.00   0.00   \n",
       "RaceWhite                        319795.0   0.766779  0.422883   0.00   1.00   \n",
       "DiabeticNo, borderline diabetes  319795.0   0.021204  0.144065   0.00   0.00   \n",
       "DiabeticYes                      319795.0   0.127588  0.333631   0.00   0.00   \n",
       "DiabeticYes (during pregnancy)   319795.0   0.008002  0.089095   0.00   0.00   \n",
       "PhysicalActivityYes              319795.0   0.775362  0.417344   0.00   1.00   \n",
       "GenHealthFair                    319795.0   0.108435  0.310930   0.00   0.00   \n",
       "GenHealthGood                    319795.0   0.291215  0.454323   0.00   0.00   \n",
       "GenHealthPoor                    319795.0   0.035301  0.184539   0.00   0.00   \n",
       "GenHealthVery good               319795.0   0.356034  0.478826   0.00   0.00   \n",
       "AsthmaYes                        319795.0   0.134061  0.340718   0.00   0.00   \n",
       "KidneyDiseaseYes                 319795.0   0.036833  0.188352   0.00   0.00   \n",
       "SkinCancerYes                    319795.0   0.093244  0.290775   0.00   0.00   \n",
       "\n",
       "                                   50%    75%    max  \n",
       "BMI                              27.34  31.42  94.85  \n",
       "PhysicalHealth                    0.00   2.00  30.00  \n",
       "MentalHealth                      0.00   3.00  30.00  \n",
       "SleepTime                         7.00   8.00  24.00  \n",
       "HeartDiseaseYes                   0.00   0.00   1.00  \n",
       "SmokingYes                        0.00   1.00   1.00  \n",
       "AlcoholDrinkingYes                0.00   0.00   1.00  \n",
       "StrokeYes                         0.00   0.00   1.00  \n",
       "DiffWalkingYes                    0.00   0.00   1.00  \n",
       "SexMale                           0.00   1.00   1.00  \n",
       "AgeCategory25-29                  0.00   0.00   1.00  \n",
       "AgeCategory30-34                  0.00   0.00   1.00  \n",
       "AgeCategory35-39                  0.00   0.00   1.00  \n",
       "AgeCategory40-44                  0.00   0.00   1.00  \n",
       "AgeCategory45-49                  0.00   0.00   1.00  \n",
       "AgeCategory50-54                  0.00   0.00   1.00  \n",
       "AgeCategory55-59                  0.00   0.00   1.00  \n",
       "AgeCategory60-64                  0.00   0.00   1.00  \n",
       "AgeCategory65-69                  0.00   0.00   1.00  \n",
       "AgeCategory70-74                  0.00   0.00   1.00  \n",
       "AgeCategory75-79                  0.00   0.00   1.00  \n",
       "AgeCategory80 or older            0.00   0.00   1.00  \n",
       "RaceAsian                         0.00   0.00   1.00  \n",
       "RaceBlack                         0.00   0.00   1.00  \n",
       "RaceHispanic                      0.00   0.00   1.00  \n",
       "RaceOther                         0.00   0.00   1.00  \n",
       "RaceWhite                         1.00   1.00   1.00  \n",
       "DiabeticNo, borderline diabetes   0.00   0.00   1.00  \n",
       "DiabeticYes                       0.00   0.00   1.00  \n",
       "DiabeticYes (during pregnancy)    0.00   0.00   1.00  \n",
       "PhysicalActivityYes               1.00   1.00   1.00  \n",
       "GenHealthFair                     0.00   0.00   1.00  \n",
       "GenHealthGood                     0.00   1.00   1.00  \n",
       "GenHealthPoor                     0.00   0.00   1.00  \n",
       "GenHealthVery good                0.00   1.00   1.00  \n",
       "AsthmaYes                         0.00   0.00   1.00  \n",
       "KidneyDiseaseYes                  0.00   0.00   1.00  \n",
       "SkinCancerYes                     0.00   0.00   1.00  "
      ]
     },
     "execution_count": 45,
     "metadata": {},
     "output_type": "execute_result"
    }
   ],
   "source": [
    "df.describe().T"
   ]
  },
  {
   "cell_type": "code",
   "execution_count": 46,
   "metadata": {
    "papermill": {
     "duration": 0.308992,
     "end_time": "2022-06-09T12:45:24.982277",
     "exception": false,
     "start_time": "2022-06-09T12:45:24.673285",
     "status": "completed"
    },
    "tags": []
   },
   "outputs": [],
   "source": [
    "X=df.drop([\"HeartDiseaseYes\"],axis=1)\n",
    "y= df.HeartDiseaseYes"
   ]
  },
  {
   "cell_type": "code",
   "execution_count": 47,
   "metadata": {
    "papermill": {
     "duration": 0.311063,
     "end_time": "2022-06-09T12:45:25.582153",
     "exception": false,
     "start_time": "2022-06-09T12:45:25.271090",
     "status": "completed"
    },
    "tags": []
   },
   "outputs": [
    {
     "data": {
      "text/html": [
       "<div>\n",
       "<style scoped>\n",
       "    .dataframe tbody tr th:only-of-type {\n",
       "        vertical-align: middle;\n",
       "    }\n",
       "\n",
       "    .dataframe tbody tr th {\n",
       "        vertical-align: top;\n",
       "    }\n",
       "\n",
       "    .dataframe thead th {\n",
       "        text-align: right;\n",
       "    }\n",
       "</style>\n",
       "<table border=\"1\" class=\"dataframe\">\n",
       "  <thead>\n",
       "    <tr style=\"text-align: right;\">\n",
       "      <th></th>\n",
       "      <th>BMI</th>\n",
       "      <th>PhysicalHealth</th>\n",
       "      <th>MentalHealth</th>\n",
       "      <th>SleepTime</th>\n",
       "      <th>SmokingYes</th>\n",
       "      <th>AlcoholDrinkingYes</th>\n",
       "      <th>StrokeYes</th>\n",
       "      <th>DiffWalkingYes</th>\n",
       "      <th>SexMale</th>\n",
       "      <th>AgeCategory25-29</th>\n",
       "      <th>...</th>\n",
       "      <th>DiabeticYes</th>\n",
       "      <th>DiabeticYes (during pregnancy)</th>\n",
       "      <th>PhysicalActivityYes</th>\n",
       "      <th>GenHealthFair</th>\n",
       "      <th>GenHealthGood</th>\n",
       "      <th>GenHealthPoor</th>\n",
       "      <th>GenHealthVery good</th>\n",
       "      <th>AsthmaYes</th>\n",
       "      <th>KidneyDiseaseYes</th>\n",
       "      <th>SkinCancerYes</th>\n",
       "    </tr>\n",
       "    <tr>\n",
       "      <th>id</th>\n",
       "      <th></th>\n",
       "      <th></th>\n",
       "      <th></th>\n",
       "      <th></th>\n",
       "      <th></th>\n",
       "      <th></th>\n",
       "      <th></th>\n",
       "      <th></th>\n",
       "      <th></th>\n",
       "      <th></th>\n",
       "      <th></th>\n",
       "      <th></th>\n",
       "      <th></th>\n",
       "      <th></th>\n",
       "      <th></th>\n",
       "      <th></th>\n",
       "      <th></th>\n",
       "      <th></th>\n",
       "      <th></th>\n",
       "      <th></th>\n",
       "      <th></th>\n",
       "    </tr>\n",
       "  </thead>\n",
       "  <tbody>\n",
       "    <tr>\n",
       "      <th>1</th>\n",
       "      <td>16.60</td>\n",
       "      <td>3.0</td>\n",
       "      <td>30.0</td>\n",
       "      <td>5.0</td>\n",
       "      <td>1</td>\n",
       "      <td>0</td>\n",
       "      <td>0</td>\n",
       "      <td>0</td>\n",
       "      <td>0</td>\n",
       "      <td>0</td>\n",
       "      <td>...</td>\n",
       "      <td>1</td>\n",
       "      <td>0</td>\n",
       "      <td>1</td>\n",
       "      <td>0</td>\n",
       "      <td>0</td>\n",
       "      <td>0</td>\n",
       "      <td>1</td>\n",
       "      <td>1</td>\n",
       "      <td>0</td>\n",
       "      <td>1</td>\n",
       "    </tr>\n",
       "    <tr>\n",
       "      <th>2</th>\n",
       "      <td>20.34</td>\n",
       "      <td>0.0</td>\n",
       "      <td>0.0</td>\n",
       "      <td>7.0</td>\n",
       "      <td>0</td>\n",
       "      <td>0</td>\n",
       "      <td>1</td>\n",
       "      <td>0</td>\n",
       "      <td>0</td>\n",
       "      <td>0</td>\n",
       "      <td>...</td>\n",
       "      <td>0</td>\n",
       "      <td>0</td>\n",
       "      <td>1</td>\n",
       "      <td>0</td>\n",
       "      <td>0</td>\n",
       "      <td>0</td>\n",
       "      <td>1</td>\n",
       "      <td>0</td>\n",
       "      <td>0</td>\n",
       "      <td>0</td>\n",
       "    </tr>\n",
       "    <tr>\n",
       "      <th>3</th>\n",
       "      <td>26.58</td>\n",
       "      <td>20.0</td>\n",
       "      <td>30.0</td>\n",
       "      <td>8.0</td>\n",
       "      <td>1</td>\n",
       "      <td>0</td>\n",
       "      <td>0</td>\n",
       "      <td>0</td>\n",
       "      <td>1</td>\n",
       "      <td>0</td>\n",
       "      <td>...</td>\n",
       "      <td>1</td>\n",
       "      <td>0</td>\n",
       "      <td>1</td>\n",
       "      <td>1</td>\n",
       "      <td>0</td>\n",
       "      <td>0</td>\n",
       "      <td>0</td>\n",
       "      <td>1</td>\n",
       "      <td>0</td>\n",
       "      <td>0</td>\n",
       "    </tr>\n",
       "    <tr>\n",
       "      <th>4</th>\n",
       "      <td>24.21</td>\n",
       "      <td>0.0</td>\n",
       "      <td>0.0</td>\n",
       "      <td>6.0</td>\n",
       "      <td>0</td>\n",
       "      <td>0</td>\n",
       "      <td>0</td>\n",
       "      <td>0</td>\n",
       "      <td>0</td>\n",
       "      <td>0</td>\n",
       "      <td>...</td>\n",
       "      <td>0</td>\n",
       "      <td>0</td>\n",
       "      <td>0</td>\n",
       "      <td>0</td>\n",
       "      <td>1</td>\n",
       "      <td>0</td>\n",
       "      <td>0</td>\n",
       "      <td>0</td>\n",
       "      <td>0</td>\n",
       "      <td>1</td>\n",
       "    </tr>\n",
       "    <tr>\n",
       "      <th>5</th>\n",
       "      <td>23.71</td>\n",
       "      <td>28.0</td>\n",
       "      <td>0.0</td>\n",
       "      <td>8.0</td>\n",
       "      <td>0</td>\n",
       "      <td>0</td>\n",
       "      <td>0</td>\n",
       "      <td>1</td>\n",
       "      <td>0</td>\n",
       "      <td>0</td>\n",
       "      <td>...</td>\n",
       "      <td>0</td>\n",
       "      <td>0</td>\n",
       "      <td>1</td>\n",
       "      <td>0</td>\n",
       "      <td>0</td>\n",
       "      <td>0</td>\n",
       "      <td>1</td>\n",
       "      <td>0</td>\n",
       "      <td>0</td>\n",
       "      <td>0</td>\n",
       "    </tr>\n",
       "  </tbody>\n",
       "</table>\n",
       "<p>5 rows × 37 columns</p>\n",
       "</div>"
      ],
      "text/plain": [
       "      BMI  PhysicalHealth  MentalHealth  SleepTime  SmokingYes  \\\n",
       "id                                                               \n",
       "1   16.60             3.0          30.0        5.0           1   \n",
       "2   20.34             0.0           0.0        7.0           0   \n",
       "3   26.58            20.0          30.0        8.0           1   \n",
       "4   24.21             0.0           0.0        6.0           0   \n",
       "5   23.71            28.0           0.0        8.0           0   \n",
       "\n",
       "    AlcoholDrinkingYes  StrokeYes  DiffWalkingYes  SexMale  AgeCategory25-29  \\\n",
       "id                                                                             \n",
       "1                    0          0               0        0                 0   \n",
       "2                    0          1               0        0                 0   \n",
       "3                    0          0               0        1                 0   \n",
       "4                    0          0               0        0                 0   \n",
       "5                    0          0               1        0                 0   \n",
       "\n",
       "    ...  DiabeticYes  DiabeticYes (during pregnancy)  PhysicalActivityYes  \\\n",
       "id  ...                                                                     \n",
       "1   ...            1                               0                    1   \n",
       "2   ...            0                               0                    1   \n",
       "3   ...            1                               0                    1   \n",
       "4   ...            0                               0                    0   \n",
       "5   ...            0                               0                    1   \n",
       "\n",
       "    GenHealthFair  GenHealthGood  GenHealthPoor  GenHealthVery good  \\\n",
       "id                                                                    \n",
       "1               0              0              0                   1   \n",
       "2               0              0              0                   1   \n",
       "3               1              0              0                   0   \n",
       "4               0              1              0                   0   \n",
       "5               0              0              0                   1   \n",
       "\n",
       "    AsthmaYes  KidneyDiseaseYes  SkinCancerYes  \n",
       "id                                              \n",
       "1           1                 0              1  \n",
       "2           0                 0              0  \n",
       "3           1                 0              0  \n",
       "4           0                 0              1  \n",
       "5           0                 0              0  \n",
       "\n",
       "[5 rows x 37 columns]"
      ]
     },
     "execution_count": 47,
     "metadata": {},
     "output_type": "execute_result"
    }
   ],
   "source": [
    "X.head(5)"
   ]
  },
  {
   "cell_type": "markdown",
   "metadata": {},
   "source": [
    "<a id=\"27\"></a>\n",
    "\n",
    "<font color='Blue'>\n",
    "\n",
    "\n",
    "## Train Test Split"
   ]
  },
  {
   "cell_type": "code",
   "execution_count": 48,
   "metadata": {
    "papermill": {
     "duration": 0.466702,
     "end_time": "2022-06-09T12:45:28.942972",
     "exception": false,
     "start_time": "2022-06-09T12:45:28.476270",
     "status": "completed"
    },
    "tags": []
   },
   "outputs": [],
   "source": [
    "# Stratified sampling to get 50:50 of Both 0 and 1 classes in Test set\n",
    "\n",
    "stratified_sample = df.groupby('HeartDiseaseYes', group_keys=False).apply(lambda x: x.sample(7500))\n",
    "X_test = stratified_sample.drop(\"HeartDiseaseYes\", axis=1)\n",
    "y_test= stratified_sample.HeartDiseaseYes\n"
   ]
  },
  {
   "cell_type": "code",
   "execution_count": 49,
   "metadata": {},
   "outputs": [
    {
     "data": {
      "text/plain": [
       "0    7500\n",
       "1    7500\n",
       "Name: HeartDiseaseYes, dtype: int64"
      ]
     },
     "execution_count": 49,
     "metadata": {},
     "output_type": "execute_result"
    }
   ],
   "source": [
    "df_stratified = pd.concat((X_test,y_test), axis=1)\n",
    "df_stratified[\"HeartDiseaseYes\"].value_counts()\n"
   ]
  },
  {
   "cell_type": "code",
   "execution_count": 50,
   "metadata": {},
   "outputs": [],
   "source": [
    "# Train Set\n",
    "# To avoid dataleakage from train to test we are going to remove the duplicates from the train set by merging\n",
    "\n",
    "df_all = df.merge(df_stratified.drop_duplicates(), on= ['BMI', 'PhysicalHealth', 'MentalHealth', 'SleepTime', 'SmokingYes',\n",
    "       'AlcoholDrinkingYes', 'StrokeYes', 'DiffWalkingYes', 'SexMale',\n",
    "       'AgeCategory25-29', 'AgeCategory30-34', 'AgeCategory35-39',\n",
    "       'AgeCategory40-44', 'AgeCategory45-49', 'AgeCategory50-54',\n",
    "       'AgeCategory55-59', 'AgeCategory60-64', 'AgeCategory65-69',\n",
    "       'AgeCategory70-74', 'AgeCategory75-79', 'AgeCategory80 or older',\n",
    "       'RaceAsian', 'RaceBlack', 'RaceHispanic', 'RaceOther', 'RaceWhite',\n",
    "       'DiabeticNo, borderline diabetes', 'DiabeticYes',\n",
    "       'DiabeticYes (during pregnancy)', 'PhysicalActivityYes',\n",
    "       'GenHealthFair', 'GenHealthGood', 'GenHealthPoor', 'GenHealthVery good',\n",
    "       'AsthmaYes', 'KidneyDiseaseYes', 'SkinCancerYes', 'HeartDiseaseYes'], how=\"left\", indicator='True')\n",
    "\n",
    "train_dataset = df_all[df_all['True'] == 'left_only']\n",
    "\n",
    "X_train = train_dataset.drop([\"HeartDiseaseYes\", \"True\"], axis=1)\n",
    "y_train = train_dataset.HeartDiseaseYes"
   ]
  },
  {
   "cell_type": "code",
   "execution_count": 51,
   "metadata": {},
   "outputs": [
    {
     "name": "stdout",
     "output_type": "stream",
     "text": [
      "0    283478\n",
      "1     19831\n",
      "Name: HeartDiseaseYes, dtype: int64\n"
     ]
    },
    {
     "data": {
      "text/plain": [
       "0    7500\n",
       "1    7500\n",
       "Name: HeartDiseaseYes, dtype: int64"
      ]
     },
     "execution_count": 51,
     "metadata": {},
     "output_type": "execute_result"
    }
   ],
   "source": [
    "print(y_train.value_counts())\n",
    "y_test.value_counts()"
   ]
  },
  {
   "cell_type": "markdown",
   "metadata": {},
   "source": [
    "<a id=\"27\"></a>\n",
    "\n",
    "<font color='Blue'>\n",
    "\n",
    "\n",
    "## Base Models"
   ]
  },
  {
   "cell_type": "code",
   "execution_count": 53,
   "metadata": {},
   "outputs": [
    {
     "data": {
      "text/html": [
       "<div>\n",
       "<style scoped>\n",
       "    .dataframe tbody tr th:only-of-type {\n",
       "        vertical-align: middle;\n",
       "    }\n",
       "\n",
       "    .dataframe tbody tr th {\n",
       "        vertical-align: top;\n",
       "    }\n",
       "\n",
       "    .dataframe thead th {\n",
       "        text-align: right;\n",
       "    }\n",
       "</style>\n",
       "<table border=\"1\" class=\"dataframe\">\n",
       "  <thead>\n",
       "    <tr style=\"text-align: right;\">\n",
       "      <th></th>\n",
       "      <th>Probability Cutoff</th>\n",
       "      <th>AUC Score</th>\n",
       "      <th>Precision Score</th>\n",
       "      <th>Recall Score</th>\n",
       "      <th>Accuracy Score</th>\n",
       "      <th>Kappa Score</th>\n",
       "      <th>f1-score</th>\n",
       "    </tr>\n",
       "  </thead>\n",
       "  <tbody>\n",
       "    <tr>\n",
       "      <th>0</th>\n",
       "      <td>0.4</td>\n",
       "      <td>0.7614</td>\n",
       "      <td>0.724596</td>\n",
       "      <td>0.843333</td>\n",
       "      <td>0.7614</td>\n",
       "      <td>0.5228</td>\n",
       "      <td>0.779469</td>\n",
       "    </tr>\n",
       "  </tbody>\n",
       "</table>\n",
       "</div>"
      ],
      "text/plain": [
       "   Probability Cutoff  AUC Score  Precision Score  Recall Score  \\\n",
       "0                 0.4     0.7614         0.724596      0.843333   \n",
       "\n",
       "   Accuracy Score  Kappa Score  f1-score  \n",
       "0          0.7614       0.5228  0.779469  "
      ]
     },
     "execution_count": 53,
     "metadata": {},
     "output_type": "execute_result"
    }
   ],
   "source": [
    "from sklearn.ensemble import StackingClassifier\n",
    "from sklearn.tree import DecisionTreeClassifier\n",
    "\n",
    "\n",
    "level0 = list()\n",
    "level0.append(('lr', LogisticRegression(class_weight= {0:1, 1:14})))\n",
    "level0.append(('knn', KNeighborsClassifier()))\n",
    "level0.append(('cart', DecisionTreeClassifier(class_weight= {0:1, 1:14})))\n",
    "level0.append(('bayes', GaussianNB()))\n",
    "\n",
    "# define meta learner model\n",
    "level1 = LogisticRegression(class_weight= {0:1, 1:14})\n",
    "\n",
    "# define the stacking ensemble\n",
    "stc = StackingClassifier(estimators=level0, final_estimator=level1, cv=20)\n",
    "\n",
    "# fit the model on all available data\n",
    "stc.fit(X_train, y_train)\n",
    "\n",
    "# make a prediction for one example\n",
    "y_pred_stack = stc.predict_proba(X_test)\n",
    "y_pred_stack = list(pd.DataFrame(y_pred_stack)[1])\n",
    "y_pred_stack = [0 if x < 0.4 else 1 for x in y_pred_stack]\n",
    "\n",
    "\n",
    "score_card_stack = pd.DataFrame(columns=['Probability Cutoff', 'AUC Score', 'Precision Score', 'Recall Score',\n",
    "                                       'Accuracy Score', 'Kappa Score', 'f1-score'])\n",
    "\n",
    "score_card_stack = score_card_stack.append({'Probability Cutoff': 0.4,\n",
    "                                'AUC Score' : roc_auc_score(y_test, y_pred_stack),\n",
    "                                'Precision Score': precision_score(y_test, y_pred_stack),\n",
    "                                'Recall Score': recall_score(y_test, y_pred_stack),\n",
    "                                'Accuracy Score': accuracy_score(y_test, y_pred_stack),\n",
    "                                'Kappa Score':cohen_kappa_score(y_test, y_pred_stack),\n",
    "                                'f1-score': f1_score(y_test, y_pred_stack)}, \n",
    "                                ignore_index = True)\n",
    "score_card_stack  "
   ]
  },
  {
   "cell_type": "code",
   "execution_count": null,
   "metadata": {},
   "outputs": [],
   "source": []
  },
  {
   "cell_type": "code",
   "execution_count": null,
   "metadata": {},
   "outputs": [],
   "source": []
  },
  {
   "cell_type": "code",
   "execution_count": null,
   "metadata": {},
   "outputs": [],
   "source": []
  },
  {
   "cell_type": "code",
   "execution_count": null,
   "metadata": {},
   "outputs": [],
   "source": []
  }
 ],
 "metadata": {
  "kernelspec": {
   "display_name": "Python 3.9.12 ('base')",
   "language": "python",
   "name": "python3"
  },
  "language_info": {
   "codemirror_mode": {
    "name": "ipython",
    "version": 3
   },
   "file_extension": ".py",
   "mimetype": "text/x-python",
   "name": "python",
   "nbconvert_exporter": "python",
   "pygments_lexer": "ipython3",
   "version": "3.9.12"
  },
  "orig_nbformat": 4,
  "vscode": {
   "interpreter": {
    "hash": "c80cf28086e0d1d920ddfc8174c08c1e4fff86ee8325c8bba6094a90dd01ef31"
   }
  }
 },
 "nbformat": 4,
 "nbformat_minor": 2
}
