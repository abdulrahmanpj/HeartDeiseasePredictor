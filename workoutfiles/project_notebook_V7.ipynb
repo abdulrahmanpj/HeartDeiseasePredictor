{
 "cells": [
  {
   "cell_type": "code",
   "execution_count": 424,
   "metadata": {},
   "outputs": [],
   "source": [
    "import pandas as pd\n",
    "import numpy as np\n",
    "import seaborn as sns\n",
    "import matplotlib.pyplot as plt"
   ]
  },
  {
   "cell_type": "code",
   "execution_count": 425,
   "metadata": {},
   "outputs": [
    {
     "data": {
      "text/html": [
       "<div>\n",
       "<style scoped>\n",
       "    .dataframe tbody tr th:only-of-type {\n",
       "        vertical-align: middle;\n",
       "    }\n",
       "\n",
       "    .dataframe tbody tr th {\n",
       "        vertical-align: top;\n",
       "    }\n",
       "\n",
       "    .dataframe thead th {\n",
       "        text-align: right;\n",
       "    }\n",
       "</style>\n",
       "<table border=\"1\" class=\"dataframe\">\n",
       "  <thead>\n",
       "    <tr style=\"text-align: right;\">\n",
       "      <th></th>\n",
       "      <th>HeartDisease</th>\n",
       "      <th>BMI</th>\n",
       "      <th>Smoking</th>\n",
       "      <th>AlcoholDrinking</th>\n",
       "      <th>Stroke</th>\n",
       "      <th>PhysicalHealth</th>\n",
       "      <th>MentalHealth</th>\n",
       "      <th>DiffWalking</th>\n",
       "      <th>Sex</th>\n",
       "      <th>AgeCategory</th>\n",
       "      <th>Race</th>\n",
       "      <th>Diabetic</th>\n",
       "      <th>PhysicalActivity</th>\n",
       "      <th>GenHealth</th>\n",
       "      <th>SleepTime</th>\n",
       "      <th>Asthma</th>\n",
       "      <th>KidneyDisease</th>\n",
       "      <th>SkinCancer</th>\n",
       "    </tr>\n",
       "  </thead>\n",
       "  <tbody>\n",
       "    <tr>\n",
       "      <th>0</th>\n",
       "      <td>No</td>\n",
       "      <td>16.60</td>\n",
       "      <td>Yes</td>\n",
       "      <td>No</td>\n",
       "      <td>No</td>\n",
       "      <td>3.0</td>\n",
       "      <td>30.0</td>\n",
       "      <td>No</td>\n",
       "      <td>Female</td>\n",
       "      <td>55-59</td>\n",
       "      <td>White</td>\n",
       "      <td>Yes</td>\n",
       "      <td>Yes</td>\n",
       "      <td>Very good</td>\n",
       "      <td>5.0</td>\n",
       "      <td>Yes</td>\n",
       "      <td>No</td>\n",
       "      <td>Yes</td>\n",
       "    </tr>\n",
       "    <tr>\n",
       "      <th>1</th>\n",
       "      <td>No</td>\n",
       "      <td>20.34</td>\n",
       "      <td>No</td>\n",
       "      <td>No</td>\n",
       "      <td>Yes</td>\n",
       "      <td>0.0</td>\n",
       "      <td>0.0</td>\n",
       "      <td>No</td>\n",
       "      <td>Female</td>\n",
       "      <td>80 or older</td>\n",
       "      <td>White</td>\n",
       "      <td>No</td>\n",
       "      <td>Yes</td>\n",
       "      <td>Very good</td>\n",
       "      <td>7.0</td>\n",
       "      <td>No</td>\n",
       "      <td>No</td>\n",
       "      <td>No</td>\n",
       "    </tr>\n",
       "    <tr>\n",
       "      <th>2</th>\n",
       "      <td>No</td>\n",
       "      <td>26.58</td>\n",
       "      <td>Yes</td>\n",
       "      <td>No</td>\n",
       "      <td>No</td>\n",
       "      <td>20.0</td>\n",
       "      <td>30.0</td>\n",
       "      <td>No</td>\n",
       "      <td>Male</td>\n",
       "      <td>65-69</td>\n",
       "      <td>White</td>\n",
       "      <td>Yes</td>\n",
       "      <td>Yes</td>\n",
       "      <td>Fair</td>\n",
       "      <td>8.0</td>\n",
       "      <td>Yes</td>\n",
       "      <td>No</td>\n",
       "      <td>No</td>\n",
       "    </tr>\n",
       "    <tr>\n",
       "      <th>3</th>\n",
       "      <td>No</td>\n",
       "      <td>24.21</td>\n",
       "      <td>No</td>\n",
       "      <td>No</td>\n",
       "      <td>No</td>\n",
       "      <td>0.0</td>\n",
       "      <td>0.0</td>\n",
       "      <td>No</td>\n",
       "      <td>Female</td>\n",
       "      <td>75-79</td>\n",
       "      <td>White</td>\n",
       "      <td>No</td>\n",
       "      <td>No</td>\n",
       "      <td>Good</td>\n",
       "      <td>6.0</td>\n",
       "      <td>No</td>\n",
       "      <td>No</td>\n",
       "      <td>Yes</td>\n",
       "    </tr>\n",
       "    <tr>\n",
       "      <th>4</th>\n",
       "      <td>No</td>\n",
       "      <td>23.71</td>\n",
       "      <td>No</td>\n",
       "      <td>No</td>\n",
       "      <td>No</td>\n",
       "      <td>28.0</td>\n",
       "      <td>0.0</td>\n",
       "      <td>Yes</td>\n",
       "      <td>Female</td>\n",
       "      <td>40-44</td>\n",
       "      <td>White</td>\n",
       "      <td>No</td>\n",
       "      <td>Yes</td>\n",
       "      <td>Very good</td>\n",
       "      <td>8.0</td>\n",
       "      <td>No</td>\n",
       "      <td>No</td>\n",
       "      <td>No</td>\n",
       "    </tr>\n",
       "  </tbody>\n",
       "</table>\n",
       "</div>"
      ],
      "text/plain": [
       "  HeartDisease    BMI Smoking AlcoholDrinking Stroke  PhysicalHealth  \\\n",
       "0           No  16.60     Yes              No     No             3.0   \n",
       "1           No  20.34      No              No    Yes             0.0   \n",
       "2           No  26.58     Yes              No     No            20.0   \n",
       "3           No  24.21      No              No     No             0.0   \n",
       "4           No  23.71      No              No     No            28.0   \n",
       "\n",
       "   MentalHealth DiffWalking     Sex  AgeCategory   Race Diabetic  \\\n",
       "0          30.0          No  Female        55-59  White      Yes   \n",
       "1           0.0          No  Female  80 or older  White       No   \n",
       "2          30.0          No    Male        65-69  White      Yes   \n",
       "3           0.0          No  Female        75-79  White       No   \n",
       "4           0.0         Yes  Female        40-44  White       No   \n",
       "\n",
       "  PhysicalActivity  GenHealth  SleepTime Asthma KidneyDisease SkinCancer  \n",
       "0              Yes  Very good        5.0    Yes            No        Yes  \n",
       "1              Yes  Very good        7.0     No            No         No  \n",
       "2              Yes       Fair        8.0    Yes            No         No  \n",
       "3               No       Good        6.0     No            No        Yes  \n",
       "4              Yes  Very good        8.0     No            No         No  "
      ]
     },
     "execution_count": 425,
     "metadata": {},
     "output_type": "execute_result"
    }
   ],
   "source": [
    "df = pd.read_csv('heart_2020_cleaned.csv')\n",
    "df.head()"
   ]
  },
  {
   "cell_type": "code",
   "execution_count": 426,
   "metadata": {},
   "outputs": [
    {
     "data": {
      "text/plain": [
       "(319795, 18)"
      ]
     },
     "execution_count": 426,
     "metadata": {},
     "output_type": "execute_result"
    }
   ],
   "source": [
    "df_sorted = df.sort_values('HeartDisease')\n",
    "df_sorted.shape"
   ]
  },
  {
   "cell_type": "code",
   "execution_count": 427,
   "metadata": {},
   "outputs": [
    {
     "data": {
      "text/plain": [
       "No     292422\n",
       "Yes     27373\n",
       "Name: HeartDisease, dtype: int64"
      ]
     },
     "execution_count": 427,
     "metadata": {},
     "output_type": "execute_result"
    }
   ],
   "source": [
    "df_sorted.HeartDisease.value_counts()"
   ]
  },
  {
   "cell_type": "code",
   "execution_count": 428,
   "metadata": {},
   "outputs": [
    {
     "data": {
      "text/plain": [
       "10.682862674898622"
      ]
     },
     "execution_count": 428,
     "metadata": {},
     "output_type": "execute_result"
    }
   ],
   "source": [
    "292422 / 27373"
   ]
  },
  {
   "cell_type": "code",
   "execution_count": 429,
   "metadata": {},
   "outputs": [],
   "source": [
    "df_test= df_sorted.sample(frac=0.05, random_state=1)\n",
    "df_test = pd.get_dummies(df_test, drop_first=True)\n",
    "X_test = df_test.drop(\"HeartDisease_Yes\", axis= 1)\n",
    "y_test = df_test.HeartDisease_Yes"
   ]
  },
  {
   "cell_type": "markdown",
   "metadata": {},
   "source": [
    "seperate the dataset into 10 different Datasets"
   ]
  },
  {
   "cell_type": "code",
   "execution_count": 430,
   "metadata": {},
   "outputs": [],
   "source": [
    "df1 = df_sorted.iloc[0:27373]"
   ]
  },
  {
   "cell_type": "code",
   "execution_count": 431,
   "metadata": {},
   "outputs": [],
   "source": [
    "df2 = df_sorted.iloc[27373:(27373*2)]\n",
    "df3 = df_sorted.iloc[(27373*2):(27373*3)]\n",
    "df4 = df_sorted.iloc[(27373*3):(27373*4)]\n",
    "df5 = df_sorted.iloc[(27373*4):(27373*5)]\n",
    "df6 = df_sorted.iloc[(27373*5):(27373*6)]\n",
    "df7 = df_sorted.iloc[(27373*6):(27373*7)]\n",
    "df8 = df_sorted.iloc[(27373*7):(27373*8)]\n",
    "df9 = df_sorted.iloc[(27373*8):(27373*9)]\n",
    "df10 = df_sorted.iloc[(27373*9):(27373*10)]"
   ]
  },
  {
   "cell_type": "code",
   "execution_count": 432,
   "metadata": {},
   "outputs": [],
   "source": [
    "df_yes = df_sorted.iloc[292422 : 319795]"
   ]
  },
  {
   "cell_type": "code",
   "execution_count": 433,
   "metadata": {},
   "outputs": [
    {
     "data": {
      "text/plain": [
       "Yes    27373\n",
       "Name: HeartDisease, dtype: int64"
      ]
     },
     "execution_count": 433,
     "metadata": {},
     "output_type": "execute_result"
    }
   ],
   "source": [
    "df_yes.HeartDisease.value_counts()"
   ]
  },
  {
   "cell_type": "code",
   "execution_count": 434,
   "metadata": {},
   "outputs": [],
   "source": [
    "list_of_datasets= [df1, df2, df3, df4, df5, df6, df7, df8, df9, df10]\n",
    "name_of_datasets = ['df1', 'df2', 'df3', 'df4', 'df5', 'df6', 'df7', 'df8', 'df9', 'df10']\n",
    "for i, j in zip(list_of_datasets, name_of_datasets):\n",
    "    i.reset_index(drop= True, inplace=True)\n",
    "    exec('{}_concat = pd.concat((i, df_yes), axis=0)'.format(j))\n",
    "    df = df.sample(frac=1, random_state=1).reset_index(drop=True)\n"
   ]
  },
  {
   "cell_type": "code",
   "execution_count": 435,
   "metadata": {},
   "outputs": [],
   "source": [
    "list_of_datasets= [df1_concat, df2_concat, df3_concat, df4_concat, df5_concat, df6_concat, df7_concat, df8_concat, df9_concat, df10_concat]\n",
    "name_of_datasets = ['df1', 'df2', 'df3', 'df4', 'df5', 'df6', 'df7', 'df8', 'df9', 'df10']\n",
    "for i, j in zip(list_of_datasets, name_of_datasets):\n",
    "    exec(f\"{j}_concat = i.sample(frac=1, random_state=1).reset_index(drop=True)\")"
   ]
  },
  {
   "cell_type": "code",
   "execution_count": 436,
   "metadata": {},
   "outputs": [
    {
     "data": {
      "text/plain": [
       "No     27373\n",
       "Yes    27373\n",
       "Name: HeartDisease, dtype: int64"
      ]
     },
     "execution_count": 436,
     "metadata": {},
     "output_type": "execute_result"
    }
   ],
   "source": [
    "df4_concat.HeartDisease.value_counts()"
   ]
  },
  {
   "cell_type": "code",
   "execution_count": 437,
   "metadata": {},
   "outputs": [],
   "source": [
    "list_of_datasets= [df1_concat, df2_concat, df3_concat, df4_concat, df5_concat, df6_concat, df7_concat, df8_concat, df9_concat, df10_concat]\n",
    "name_of_datasets = ['df1', 'df2', 'df3', 'df4', 'df5', 'df6', 'df7', 'df8', 'df9', 'df10']\n",
    "for a, b in zip(list_of_datasets, name_of_datasets):\n",
    "    exec('{}_withdummies = pd.get_dummies(a, drop_first= True)'.format(b))"
   ]
  },
  {
   "cell_type": "markdown",
   "metadata": {},
   "source": [
    "#NEW MODEL"
   ]
  },
  {
   "cell_type": "markdown",
   "metadata": {},
   "source": [
    "#### Using df10 as test set"
   ]
  },
  {
   "cell_type": "code",
   "execution_count": 438,
   "metadata": {},
   "outputs": [],
   "source": [
    "# X_test = df10_withdummies.drop('HeartDisease_Yes', axis=1)\n",
    "# y_test = df10_withdummies.HeartDisease_Yes"
   ]
  },
  {
   "cell_type": "code",
   "execution_count": 439,
   "metadata": {},
   "outputs": [],
   "source": [
    "def predictionmodelfinal(testset):\n",
    "    from sklearn.model_selection import train_test_split\n",
    "    from xgboost import XGBClassifier\n",
    "\n",
    "    list_of_datasets= [df1_withdummies, df2_withdummies, df3_withdummies, df4_withdummies, df5_withdummies, df6_withdummies, df7_withdummies, df8_withdummies, df9_withdummies, df10_withdummies]\n",
    "    name_of_datasets = ['df1', 'df2', 'df3', 'df4', 'df5', 'df6', 'df7', 'df8', 'df9', 'df10' ]\n",
    "\n",
    "    xgb = XGBClassifier()\n",
    "    for i, j in zip(list_of_datasets, name_of_datasets):\n",
    "        trainset = []\n",
    "        exec(f'X_train{j} = i.drop(\"HeartDisease_Yes\", axis=1)')\n",
    "        exec(f'y_train{j} = i.HeartDisease_Yes')\n",
    "    trainset = ['X_traindf1', 'X_traindf2', 'X_traindf3', 'X_traindf4', 'X_traindf5', 'X_traindf6', 'X_traindf7', 'X_traindf8', 'X_traindf9', 'X_traindf10']\n",
    "\n",
    "    for i in (list_of_datasets):\n",
    "        xgb.fit(i)\n"
   ]
  },
  {
   "cell_type": "code",
   "execution_count": 440,
   "metadata": {},
   "outputs": [],
   "source": [
    "list_of_datasets= [df1_withdummies, df2_withdummies, df3_withdummies, df4_withdummies, df5_withdummies, df6_withdummies, df7_withdummies, df8_withdummies, df9_withdummies, df10_withdummies]\n",
    "name_of_datasets = ['df1', 'df2', 'df3', 'df4', 'df5', 'df6', 'df7', 'df8', 'df9','df10']\n",
    "for i, j in zip(list_of_datasets, name_of_datasets):\n",
    "    exec(f'X_train{j} = i.drop(\"HeartDisease_Yes\", axis=1)')\n",
    "    exec(f'y_train{j} = i.HeartDisease_Yes')\n",
    "trainset = [X_traindf1, X_traindf2, X_traindf3, X_traindf4, X_traindf5, X_traindf6, X_traindf7, X_traindf8, X_traindf9, X_traindf10]\n",
    "testset = [y_traindf1, y_traindf2, y_traindf3, y_traindf4, y_traindf5, y_traindf6, y_traindf7, y_traindf8, y_traindf9,y_traindf10]\n",
    "\n"
   ]
  },
  {
   "cell_type": "code",
   "execution_count": 441,
   "metadata": {},
   "outputs": [],
   "source": [
    "from xgboost import XGBClassifier\n",
    "xgb = XGBClassifier()\n",
    "predictdataframe= pd.DataFrame()\n",
    "list_of_datasets= ['df1', 'df2', 'df3', 'df4', 'df5', 'df6', 'df7', 'df8', 'df9', 'df10']\n",
    "\n",
    "for i, j, k  in zip(trainset, testset,  list_of_datasets):\n",
    "    xgb.fit(i, j)\n",
    "    exec(f'{k}_pred = xgb.predict(X_test)')"
   ]
  },
  {
   "cell_type": "code",
   "execution_count": 442,
   "metadata": {},
   "outputs": [],
   "source": [
    "predicted= [df1_pred, df2_pred, df3_pred, df4_pred, df5_pred, df6_pred, df7_pred, df8_pred, df9_pred, df10_pred]\n",
    "predictedcol = ['df1_pred', 'df2_pred', 'df3_pred', 'df4_pred', 'df5_pred', 'df6_pred', 'df7_pred', 'df8_pred', 'df9_pred', 'df10_pred']"
   ]
  },
  {
   "cell_type": "code",
   "execution_count": 443,
   "metadata": {},
   "outputs": [],
   "source": [
    "predicteddf = pd.DataFrame({'df1_pred': df1_pred , 'df2_pred': df2_pred, 'df3_pred': df3_pred, 'df4_pred':df4_pred, 'df5_pred': df5_pred, 'df6_pred': df6_pred, 'df7_pred':df7_pred , 'df8_pred':df8_pred , 'df9_pred':df9_pred, 'df10_pred':df10_pred})"
   ]
  },
  {
   "cell_type": "code",
   "execution_count": 444,
   "metadata": {},
   "outputs": [],
   "source": [
    "predicteddf['mode'] = predicteddf.mode(axis=1)[0]"
   ]
  },
  {
   "cell_type": "code",
   "execution_count": 445,
   "metadata": {},
   "outputs": [],
   "source": [
    "from sklearn.metrics import precision_score,recall_score, accuracy_score\n",
    "from sklearn.metrics import f1_score"
   ]
  },
  {
   "cell_type": "code",
   "execution_count": 446,
   "metadata": {},
   "outputs": [],
   "source": [
    "y_pred = predicteddf[\"mode\"].values"
   ]
  },
  {
   "cell_type": "code",
   "execution_count": 447,
   "metadata": {},
   "outputs": [
    {
     "name": "stderr",
     "output_type": "stream",
     "text": [
      "No artists with labels found to put in legend.  Note that artists whose label start with an underscore are ignored when legend() is called with no argument.\n"
     ]
    },
    {
     "name": "stdout",
     "output_type": "stream",
     "text": [
      "Accuracy Score: 0.7437773608505316\n",
      "Precission Score: 0.23142630115216528\n",
      "percentage mislabbled: 25.622263914946842\n",
      "total ones: 1393\n",
      "Number of Mislabbled Ones: 228\n",
      "total zeroes: 14597\n",
      "Number of Mislabbled zeroes: 3869\n",
      "Recall Score: 0.83632447954056\n",
      "F1-Score: 0.3625330636377781\n"
     ]
    },
    {
     "data": {
      "image/png": "[encoded data removed]",
      "text/plain": [
       "<Figure size 432x288 with 1 Axes>"
      ]
     },
     "metadata": {
      "needs_background": "light"
     },
     "output_type": "display_data"
    }
   ],
   "source": [
    "percent_mislabbled = (((y_test != y_pred).sum())/X_test.shape[0])*100\n",
    "\n",
    "\n",
    "y_pred_df = pd.DataFrame(np.array(y_pred), columns= ['ypred'])\n",
    "y_test_df = pd.DataFrame(y_test.values, columns = ['y_test'])\n",
    "df_test = pd.concat([y_pred_df, y_test_df], axis=1)\n",
    "\n",
    "df_test1 = df_test[df_test['y_test'] == 1]\n",
    "df_test0 = df_test[df_test['y_test'] == 0]\n",
    "\n",
    "\n",
    "total_ones = len(df_test[df_test['y_test'] == 1])\n",
    "number_of_mislabbled_ones = (df_test1.y_test != df_test1.ypred).sum()\n",
    "\n",
    "total_zeroes = len(df_test[df_test['y_test'] == 0])\n",
    "number_of_mislabbled_zeroes = (df_test0.y_test != df_test0.ypred).sum()\n",
    "    \n",
    "\n",
    "\n",
    "print(f'Accuracy Score: {accuracy_score(y_test,y_pred)}')\n",
    "print(f'Precission Score: {precision_score(y_test,y_pred)}')\n",
    "print(f'percentage mislabbled: {percent_mislabbled}')\n",
    "print(f'total ones: {total_ones}')\n",
    "print(f'Number of Mislabbled Ones: {number_of_mislabbled_ones}')\n",
    "print(f'total zeroes: {total_zeroes}')\n",
    "print(f'Number of Mislabbled zeroes: {number_of_mislabbled_zeroes}')   \n",
    "print(f'Recall Score: {recall_score(y_test,y_pred)}')\n",
    "print(f'F1-Score: {f1_score(y_test,y_pred)}')\n",
    "\n",
    "from sklearn.metrics import roc_curve\n",
    "\n",
    "fpr, tpr, th = roc_curve(y_test, y_pred)\n",
    "plt.plot(fpr, tpr)\n",
    "plt.plot([1,0], [1, 0])\n",
    "plt.xlabel('FPR (1-Specificity)')\n",
    "plt.ylabel('Tpr (sensitivity')\n",
    "plt.title('Roc Auc Curve')\n",
    "plt.legend()\n",
    "plt.show()\n"
   ]
  },
  {
   "cell_type": "code",
   "execution_count": null,
   "metadata": {},
   "outputs": [],
   "source": []
  }
 ],
 "metadata": {
  "kernelspec": {
   "display_name": "Python 3.9.12 ('base')",
   "language": "python",
   "name": "python3"
  },
  "language_info": {
   "codemirror_mode": {
    "name": "ipython",
    "version": 3
   },
   "file_extension": ".py",
   "mimetype": "text/x-python",
   "name": "python",
   "nbconvert_exporter": "python",
   "pygments_lexer": "ipython3",
   "version": "3.9.12"
  },
  "orig_nbformat": 4,
  "vscode": {
   "interpreter": {
    "hash": "c80cf28086e0d1d920ddfc8174c08c1e4fff86ee8325c8bba6094a90dd01ef31"
   }
  }
 },
 "nbformat": 4,
 "nbformat_minor": 2
}
